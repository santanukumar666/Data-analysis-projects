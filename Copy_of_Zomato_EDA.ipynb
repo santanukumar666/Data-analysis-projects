{
  "nbformat": 4,
  "nbformat_minor": 0,
  "metadata": {
    "kernelspec": {
      "display_name": "Python 3",
      "language": "python",
      "name": "python3"
    },
    "language_info": {
      "codemirror_mode": {
        "name": "ipython",
        "version": 3
      },
      "file_extension": ".py",
      "mimetype": "text/x-python",
      "name": "python",
      "nbconvert_exporter": "python",
      "pygments_lexer": "ipython3",
      "version": "3.7.4"
    },
    "colab": {
      "name": "Copy of Zomato_EDA.ipynb",
      "provenance": [],
      "include_colab_link": true
    }
  },
  "cells": [
    {
      "cell_type": "markdown",
      "metadata": {
        "id": "view-in-github",
        "colab_type": "text"
      },
      "source": [
        "<a href=\"https://colab.research.google.com/github/santanukumar666/data_analysis_projects/blob/main/Copy_of_Zomato_EDA.ipynb\" target=\"_parent\"><img src=\"https://colab.research.google.com/assets/colab-badge.svg\" alt=\"Open In Colab\"/></a>"
      ]
    },
    {
      "cell_type": "code",
      "metadata": {
        "id": "ckI9Qa0IxvQS"
      },
      "source": [
        "import pandas as pd\n",
        "import numpy as np\n",
        "import matplotlib.pyplot as plt\n",
        "import seaborn as sns\n",
        "\n",
        "### so that u dont have warnings\n",
        "from warnings import filterwarnings\n",
        "filterwarnings('ignore')"
      ],
      "execution_count": null,
      "outputs": []
    },
    {
      "cell_type": "markdown",
      "metadata": {
        "id": "1Crz7CFUxvQU"
      },
      "source": [
        "#### Columns description\n",
        "\n",
        "1. url contains the url of the restaurant in the zomato website\n",
        "\n",
        "2. address contains the address of the restaurant in Bengaluru\n",
        "\n",
        "3. name contains the name of the restaurant\n",
        "\n",
        "4. online_order whether online ordering is available in the restaurant or not\n",
        "\n",
        "5. book_table table book option available or not\n",
        "\n",
        "6. rate contains the overall rating of the restaurant out of 5\n",
        "\n",
        "7. votes contains total number of rating for the restaurant as of the above mentioned date\n",
        "\n",
        "8. phone contains the phone number of the restaurant\n",
        "\n",
        "9. location contains the neighborhood in which the restaurant is located\n",
        "\n",
        "10. rest_type restaurant type\n",
        "\n",
        "11. dish_liked dishes people liked in the restaurant\n",
        "\n",
        "12. cuisines food styles, separated by comma\n",
        "\n",
        "13. approx_cost(for two people) contains the approximate cost for meal for two people\n",
        "\n",
        "14. reviews_list list of tuples containing reviews for the restaurant, each tuple\n",
        "\n",
        "15. menu_item contains list of menus available in the restaurant\n",
        "\n",
        "16. listed_in(type) type of meal\n",
        "\n",
        "17. listed_in(city) contains the neighborhood in which the restaurant is listed"
      ]
    },
    {
      "cell_type": "code",
      "metadata": {
        "id": "RQxLL56HxvQV",
        "colab": {
          "base_uri": "https://localhost:8080/",
          "height": 404
        },
        "outputId": "814862ed-f714-4720-9e57-b24e3b021d1e"
      },
      "source": [
        "#read dataset\n",
        "df=pd.read_csv(r'C:\\Users\\subra\\zomato_data_analysis/zomato.csv')\n",
        "df.head()"
      ],
      "execution_count": null,
      "outputs": [
        {
          "output_type": "error",
          "ename": "FileNotFoundError",
          "evalue": "ignored",
          "traceback": [
            "\u001b[0;31m---------------------------------------------------------------------------\u001b[0m",
            "\u001b[0;31mFileNotFoundError\u001b[0m                         Traceback (most recent call last)",
            "\u001b[0;32m<ipython-input-4-f7b4fb4fcf97>\u001b[0m in \u001b[0;36m<module>\u001b[0;34m()\u001b[0m\n\u001b[1;32m      1\u001b[0m \u001b[0;31m#read dataset\u001b[0m\u001b[0;34m\u001b[0m\u001b[0;34m\u001b[0m\u001b[0;34m\u001b[0m\u001b[0m\n\u001b[0;32m----> 2\u001b[0;31m \u001b[0mdf\u001b[0m\u001b[0;34m=\u001b[0m\u001b[0mpd\u001b[0m\u001b[0;34m.\u001b[0m\u001b[0mread_csv\u001b[0m\u001b[0;34m(\u001b[0m\u001b[0;34mr'C:\\Users\\subra\\zomato_data_analysis/zomato.csv'\u001b[0m\u001b[0;34m)\u001b[0m\u001b[0;34m\u001b[0m\u001b[0;34m\u001b[0m\u001b[0m\n\u001b[0m\u001b[1;32m      3\u001b[0m \u001b[0mdf\u001b[0m\u001b[0;34m.\u001b[0m\u001b[0mhead\u001b[0m\u001b[0;34m(\u001b[0m\u001b[0;34m)\u001b[0m\u001b[0;34m\u001b[0m\u001b[0;34m\u001b[0m\u001b[0m\n",
            "\u001b[0;32m/usr/local/lib/python3.7/dist-packages/pandas/io/parsers.py\u001b[0m in \u001b[0;36mread_csv\u001b[0;34m(filepath_or_buffer, sep, delimiter, header, names, index_col, usecols, squeeze, prefix, mangle_dupe_cols, dtype, engine, converters, true_values, false_values, skipinitialspace, skiprows, skipfooter, nrows, na_values, keep_default_na, na_filter, verbose, skip_blank_lines, parse_dates, infer_datetime_format, keep_date_col, date_parser, dayfirst, cache_dates, iterator, chunksize, compression, thousands, decimal, lineterminator, quotechar, quoting, doublequote, escapechar, comment, encoding, dialect, error_bad_lines, warn_bad_lines, delim_whitespace, low_memory, memory_map, float_precision)\u001b[0m\n\u001b[1;32m    686\u001b[0m     )\n\u001b[1;32m    687\u001b[0m \u001b[0;34m\u001b[0m\u001b[0m\n\u001b[0;32m--> 688\u001b[0;31m     \u001b[0;32mreturn\u001b[0m \u001b[0m_read\u001b[0m\u001b[0;34m(\u001b[0m\u001b[0mfilepath_or_buffer\u001b[0m\u001b[0;34m,\u001b[0m \u001b[0mkwds\u001b[0m\u001b[0;34m)\u001b[0m\u001b[0;34m\u001b[0m\u001b[0;34m\u001b[0m\u001b[0m\n\u001b[0m\u001b[1;32m    689\u001b[0m \u001b[0;34m\u001b[0m\u001b[0m\n\u001b[1;32m    690\u001b[0m \u001b[0;34m\u001b[0m\u001b[0m\n",
            "\u001b[0;32m/usr/local/lib/python3.7/dist-packages/pandas/io/parsers.py\u001b[0m in \u001b[0;36m_read\u001b[0;34m(filepath_or_buffer, kwds)\u001b[0m\n\u001b[1;32m    452\u001b[0m \u001b[0;34m\u001b[0m\u001b[0m\n\u001b[1;32m    453\u001b[0m     \u001b[0;31m# Create the parser.\u001b[0m\u001b[0;34m\u001b[0m\u001b[0;34m\u001b[0m\u001b[0;34m\u001b[0m\u001b[0m\n\u001b[0;32m--> 454\u001b[0;31m     \u001b[0mparser\u001b[0m \u001b[0;34m=\u001b[0m \u001b[0mTextFileReader\u001b[0m\u001b[0;34m(\u001b[0m\u001b[0mfp_or_buf\u001b[0m\u001b[0;34m,\u001b[0m \u001b[0;34m**\u001b[0m\u001b[0mkwds\u001b[0m\u001b[0;34m)\u001b[0m\u001b[0;34m\u001b[0m\u001b[0;34m\u001b[0m\u001b[0m\n\u001b[0m\u001b[1;32m    455\u001b[0m \u001b[0;34m\u001b[0m\u001b[0m\n\u001b[1;32m    456\u001b[0m     \u001b[0;32mif\u001b[0m \u001b[0mchunksize\u001b[0m \u001b[0;32mor\u001b[0m \u001b[0miterator\u001b[0m\u001b[0;34m:\u001b[0m\u001b[0;34m\u001b[0m\u001b[0;34m\u001b[0m\u001b[0m\n",
            "\u001b[0;32m/usr/local/lib/python3.7/dist-packages/pandas/io/parsers.py\u001b[0m in \u001b[0;36m__init__\u001b[0;34m(self, f, engine, **kwds)\u001b[0m\n\u001b[1;32m    946\u001b[0m             \u001b[0mself\u001b[0m\u001b[0;34m.\u001b[0m\u001b[0moptions\u001b[0m\u001b[0;34m[\u001b[0m\u001b[0;34m\"has_index_names\"\u001b[0m\u001b[0;34m]\u001b[0m \u001b[0;34m=\u001b[0m \u001b[0mkwds\u001b[0m\u001b[0;34m[\u001b[0m\u001b[0;34m\"has_index_names\"\u001b[0m\u001b[0;34m]\u001b[0m\u001b[0;34m\u001b[0m\u001b[0;34m\u001b[0m\u001b[0m\n\u001b[1;32m    947\u001b[0m \u001b[0;34m\u001b[0m\u001b[0m\n\u001b[0;32m--> 948\u001b[0;31m         \u001b[0mself\u001b[0m\u001b[0;34m.\u001b[0m\u001b[0m_make_engine\u001b[0m\u001b[0;34m(\u001b[0m\u001b[0mself\u001b[0m\u001b[0;34m.\u001b[0m\u001b[0mengine\u001b[0m\u001b[0;34m)\u001b[0m\u001b[0;34m\u001b[0m\u001b[0;34m\u001b[0m\u001b[0m\n\u001b[0m\u001b[1;32m    949\u001b[0m \u001b[0;34m\u001b[0m\u001b[0m\n\u001b[1;32m    950\u001b[0m     \u001b[0;32mdef\u001b[0m \u001b[0mclose\u001b[0m\u001b[0;34m(\u001b[0m\u001b[0mself\u001b[0m\u001b[0;34m)\u001b[0m\u001b[0;34m:\u001b[0m\u001b[0;34m\u001b[0m\u001b[0;34m\u001b[0m\u001b[0m\n",
            "\u001b[0;32m/usr/local/lib/python3.7/dist-packages/pandas/io/parsers.py\u001b[0m in \u001b[0;36m_make_engine\u001b[0;34m(self, engine)\u001b[0m\n\u001b[1;32m   1178\u001b[0m     \u001b[0;32mdef\u001b[0m \u001b[0m_make_engine\u001b[0m\u001b[0;34m(\u001b[0m\u001b[0mself\u001b[0m\u001b[0;34m,\u001b[0m \u001b[0mengine\u001b[0m\u001b[0;34m=\u001b[0m\u001b[0;34m\"c\"\u001b[0m\u001b[0;34m)\u001b[0m\u001b[0;34m:\u001b[0m\u001b[0;34m\u001b[0m\u001b[0;34m\u001b[0m\u001b[0m\n\u001b[1;32m   1179\u001b[0m         \u001b[0;32mif\u001b[0m \u001b[0mengine\u001b[0m \u001b[0;34m==\u001b[0m \u001b[0;34m\"c\"\u001b[0m\u001b[0;34m:\u001b[0m\u001b[0;34m\u001b[0m\u001b[0;34m\u001b[0m\u001b[0m\n\u001b[0;32m-> 1180\u001b[0;31m             \u001b[0mself\u001b[0m\u001b[0;34m.\u001b[0m\u001b[0m_engine\u001b[0m \u001b[0;34m=\u001b[0m \u001b[0mCParserWrapper\u001b[0m\u001b[0;34m(\u001b[0m\u001b[0mself\u001b[0m\u001b[0;34m.\u001b[0m\u001b[0mf\u001b[0m\u001b[0;34m,\u001b[0m \u001b[0;34m**\u001b[0m\u001b[0mself\u001b[0m\u001b[0;34m.\u001b[0m\u001b[0moptions\u001b[0m\u001b[0;34m)\u001b[0m\u001b[0;34m\u001b[0m\u001b[0;34m\u001b[0m\u001b[0m\n\u001b[0m\u001b[1;32m   1181\u001b[0m         \u001b[0;32melse\u001b[0m\u001b[0;34m:\u001b[0m\u001b[0;34m\u001b[0m\u001b[0;34m\u001b[0m\u001b[0m\n\u001b[1;32m   1182\u001b[0m             \u001b[0;32mif\u001b[0m \u001b[0mengine\u001b[0m \u001b[0;34m==\u001b[0m \u001b[0;34m\"python\"\u001b[0m\u001b[0;34m:\u001b[0m\u001b[0;34m\u001b[0m\u001b[0;34m\u001b[0m\u001b[0m\n",
            "\u001b[0;32m/usr/local/lib/python3.7/dist-packages/pandas/io/parsers.py\u001b[0m in \u001b[0;36m__init__\u001b[0;34m(self, src, **kwds)\u001b[0m\n\u001b[1;32m   2008\u001b[0m         \u001b[0mkwds\u001b[0m\u001b[0;34m[\u001b[0m\u001b[0;34m\"usecols\"\u001b[0m\u001b[0;34m]\u001b[0m \u001b[0;34m=\u001b[0m \u001b[0mself\u001b[0m\u001b[0;34m.\u001b[0m\u001b[0musecols\u001b[0m\u001b[0;34m\u001b[0m\u001b[0;34m\u001b[0m\u001b[0m\n\u001b[1;32m   2009\u001b[0m \u001b[0;34m\u001b[0m\u001b[0m\n\u001b[0;32m-> 2010\u001b[0;31m         \u001b[0mself\u001b[0m\u001b[0;34m.\u001b[0m\u001b[0m_reader\u001b[0m \u001b[0;34m=\u001b[0m \u001b[0mparsers\u001b[0m\u001b[0;34m.\u001b[0m\u001b[0mTextReader\u001b[0m\u001b[0;34m(\u001b[0m\u001b[0msrc\u001b[0m\u001b[0;34m,\u001b[0m \u001b[0;34m**\u001b[0m\u001b[0mkwds\u001b[0m\u001b[0;34m)\u001b[0m\u001b[0;34m\u001b[0m\u001b[0;34m\u001b[0m\u001b[0m\n\u001b[0m\u001b[1;32m   2011\u001b[0m         \u001b[0mself\u001b[0m\u001b[0;34m.\u001b[0m\u001b[0munnamed_cols\u001b[0m \u001b[0;34m=\u001b[0m \u001b[0mself\u001b[0m\u001b[0;34m.\u001b[0m\u001b[0m_reader\u001b[0m\u001b[0;34m.\u001b[0m\u001b[0munnamed_cols\u001b[0m\u001b[0;34m\u001b[0m\u001b[0;34m\u001b[0m\u001b[0m\n\u001b[1;32m   2012\u001b[0m \u001b[0;34m\u001b[0m\u001b[0m\n",
            "\u001b[0;32mpandas/_libs/parsers.pyx\u001b[0m in \u001b[0;36mpandas._libs.parsers.TextReader.__cinit__\u001b[0;34m()\u001b[0m\n",
            "\u001b[0;32mpandas/_libs/parsers.pyx\u001b[0m in \u001b[0;36mpandas._libs.parsers.TextReader._setup_parser_source\u001b[0;34m()\u001b[0m\n",
            "\u001b[0;31mFileNotFoundError\u001b[0m: [Errno 2] No such file or directory: 'C:\\\\Users\\\\subra\\\\zomato_data_analysis/zomato.csv'"
          ]
        }
      ]
    },
    {
      "cell_type": "code",
      "metadata": {
        "id": "q0qTusBsxvQX"
      },
      "source": [
        "df.shape"
      ],
      "execution_count": null,
      "outputs": []
    },
    {
      "cell_type": "code",
      "metadata": {
        "id": "csIltsE3xvQX"
      },
      "source": [
        "df.dtypes"
      ],
      "execution_count": null,
      "outputs": []
    },
    {
      "cell_type": "code",
      "metadata": {
        "id": "no-a2kKSxvQX"
      },
      "source": [
        "len(df['name'].unique())"
      ],
      "execution_count": null,
      "outputs": []
    },
    {
      "cell_type": "code",
      "metadata": {
        "id": "XFFCTlghxvQY"
      },
      "source": [
        "df.isna().sum()"
      ],
      "execution_count": null,
      "outputs": []
    },
    {
      "cell_type": "markdown",
      "metadata": {
        "id": "0L9AufX0xvQY"
      },
      "source": [
        "#### getting all NAN features"
      ]
    },
    {
      "cell_type": "code",
      "metadata": {
        "id": "rGfqtemMxvQZ"
      },
      "source": [
        "feature_na=[feature for feature in df.columns if df[feature].isnull().sum()>0]\n",
        "feature_na"
      ],
      "execution_count": null,
      "outputs": []
    },
    {
      "cell_type": "code",
      "metadata": {
        "id": "fqmBBCtqxvQZ"
      },
      "source": [
        "#% of missing values\n",
        "for feature in feature_na:\n",
        "    print('{} has {} % missing values'.format(feature,np.round(df[feature].isnull().sum()/len(df)*100,4)))"
      ],
      "execution_count": null,
      "outputs": []
    },
    {
      "cell_type": "code",
      "metadata": {
        "id": "SfSV6laDxvQa"
      },
      "source": [
        "df['rate'].unique()"
      ],
      "execution_count": null,
      "outputs": []
    },
    {
      "cell_type": "code",
      "metadata": {
        "id": "Qf43gVXLxvQa"
      },
      "source": [
        "df.dropna(axis='index',subset=['rate'],inplace=True)"
      ],
      "execution_count": null,
      "outputs": []
    },
    {
      "cell_type": "code",
      "metadata": {
        "id": "ke9A-pDGxvQb"
      },
      "source": [
        "df.shape"
      ],
      "execution_count": null,
      "outputs": []
    },
    {
      "cell_type": "code",
      "metadata": {
        "id": "MmPR-XisxvQb"
      },
      "source": [
        "def split(x):\n",
        "    return x.split('/')[0]"
      ],
      "execution_count": null,
      "outputs": []
    },
    {
      "cell_type": "code",
      "metadata": {
        "id": "4MHMeuhyxvQb"
      },
      "source": [
        "df['rate']=df['rate'].apply(split)"
      ],
      "execution_count": null,
      "outputs": []
    },
    {
      "cell_type": "code",
      "metadata": {
        "id": "uS-1qBz3xvQb"
      },
      "source": [
        "df.head()"
      ],
      "execution_count": null,
      "outputs": []
    },
    {
      "cell_type": "code",
      "metadata": {
        "id": "qS_nuW9TxvQc"
      },
      "source": [
        "df['rate'].unique()"
      ],
      "execution_count": null,
      "outputs": []
    },
    {
      "cell_type": "code",
      "metadata": {
        "id": "LsuZF3xRxvQc"
      },
      "source": [
        "df.replace('NEW',0,inplace=True)"
      ],
      "execution_count": null,
      "outputs": []
    },
    {
      "cell_type": "code",
      "metadata": {
        "id": "VXLiR3VCxvQc"
      },
      "source": [
        "df.replace('-',0,inplace=True)"
      ],
      "execution_count": null,
      "outputs": []
    },
    {
      "cell_type": "code",
      "metadata": {
        "id": "03Tj5nRbxvQd"
      },
      "source": [
        "df['rate']=df['rate'].astype(float)"
      ],
      "execution_count": null,
      "outputs": []
    },
    {
      "cell_type": "markdown",
      "metadata": {
        "id": "rdlbFZHDxvQd"
      },
      "source": [
        "### calculate avg rating of each resturant"
      ]
    },
    {
      "cell_type": "code",
      "metadata": {
        "id": "jvaJCWhJxvQn"
      },
      "source": [
        "df.groupby('name')['rate'].mean().nlargest(20).plot.bar()"
      ],
      "execution_count": null,
      "outputs": []
    },
    {
      "cell_type": "code",
      "metadata": {
        "id": "yJdOzEn4xvQo"
      },
      "source": [
        "df_rate=df.groupby('name')['rate'].mean().to_frame()\n",
        "df_rate=df_rate.reset_index()\n",
        "df_rate.columns=['restaurant','rating']\n",
        "df_rate.head(20)"
      ],
      "execution_count": null,
      "outputs": []
    },
    {
      "cell_type": "code",
      "metadata": {
        "id": "QwIq36_yxvQp"
      },
      "source": [
        "df_rate.shape"
      ],
      "execution_count": null,
      "outputs": []
    },
    {
      "cell_type": "markdown",
      "metadata": {
        "id": "oC4rxiplxvQp"
      },
      "source": [
        "#### alternative is create a list in which u have all the restaurants & in another list,we have all ratings & then using zip we can create a dataframe"
      ]
    },
    {
      "cell_type": "code",
      "metadata": {
        "id": "9cjhD_irxvQp"
      },
      "source": [
        "'''restaurant=[]\n",
        "avg_rating=[]\n",
        "for key,name_df in df.groupby('name'):\n",
        "    restaurant.append(key)\n",
        "    avg_rating.append(np.mean(name_df['rate'])'''"
      ],
      "execution_count": null,
      "outputs": []
    },
    {
      "cell_type": "code",
      "metadata": {
        "id": "2gXI2lVVxvQq"
      },
      "source": [
        "'''df_rate=pd.DataFrame(zip(restaurant,avg_rating))\n",
        "df_rate.columns=['restaurant','rating']\n",
        "df_rate.head(20)'''"
      ],
      "execution_count": null,
      "outputs": []
    },
    {
      "cell_type": "code",
      "metadata": {
        "id": "K98VTT8TxvQq"
      },
      "source": [
        "'''df_rate.shape'''"
      ],
      "execution_count": null,
      "outputs": []
    },
    {
      "cell_type": "markdown",
      "metadata": {
        "id": "uph489SZxvQq"
      },
      "source": [
        "##### Rating distribution"
      ]
    },
    {
      "cell_type": "code",
      "metadata": {
        "id": "BP7nLgSDxvQq"
      },
      "source": [
        "sns.set_style(style='whitegrid')\n",
        "sns.distplot(df_rate['rating'])"
      ],
      "execution_count": null,
      "outputs": []
    },
    {
      "cell_type": "markdown",
      "metadata": {
        "id": "62Gm2rxIxvQq"
      },
      "source": [
        "##### Almost more than 50 percent of restaurants has rating between 3 and 4. Restaurants having rating more than 4.5 are very rare."
      ]
    },
    {
      "cell_type": "code",
      "metadata": {
        "id": "U1YylzEhxvQq"
      },
      "source": [
        ""
      ],
      "execution_count": null,
      "outputs": []
    },
    {
      "cell_type": "markdown",
      "metadata": {
        "id": "aVhDc9vNxvQr"
      },
      "source": [
        "#### Which are the top restaurant chains in Bangaluru?"
      ]
    },
    {
      "cell_type": "code",
      "metadata": {
        "id": "xyBYelrAxvQr"
      },
      "source": [
        "plt.figure(figsize=(10,7))\n",
        "chains=df['name'].value_counts()[0:20]\n",
        "sns.barplot(x=chains,y=chains.index,palette='deep')\n",
        "plt.title(\"Most famous restaurants chains in Bangaluru\")\n",
        "plt.xlabel(\"Number of outlets\") "
      ],
      "execution_count": null,
      "outputs": []
    },
    {
      "cell_type": "code",
      "metadata": {
        "id": "jZ01deWrxvQr"
      },
      "source": [
        ""
      ],
      "execution_count": null,
      "outputs": []
    },
    {
      "cell_type": "markdown",
      "metadata": {
        "id": "qsJJrTdqxvQr"
      },
      "source": [
        "##### How many of the restuarants do not accept online orders?"
      ]
    },
    {
      "cell_type": "code",
      "metadata": {
        "id": "ixg9KXm2xvQr"
      },
      "source": [
        "x=df['online_order'].value_counts()\n",
        "labels=['accepted','not accepted']\n",
        "plt.pie(x,explode=[0.0,0.1],autopct='%1.1f%%')"
      ],
      "execution_count": null,
      "outputs": []
    },
    {
      "cell_type": "markdown",
      "metadata": {
        "id": "DY7kgAOJxvQr"
      },
      "source": [
        "##### using plotly, How many of the restuarants do not accept online orders?"
      ]
    },
    {
      "cell_type": "code",
      "metadata": {
        "id": "a5AsLdDXxvQs"
      },
      "source": [
        "!pip install plotly"
      ],
      "execution_count": null,
      "outputs": []
    },
    {
      "cell_type": "code",
      "metadata": {
        "id": "TRUAkVpSxvQs"
      },
      "source": [
        "import plotly.express as px"
      ],
      "execution_count": null,
      "outputs": []
    },
    {
      "cell_type": "code",
      "metadata": {
        "id": "3BHH6TwIxvQs"
      },
      "source": [
        "x=df['online_order'].value_counts()\n",
        "labels=['accepted','not accepted']"
      ],
      "execution_count": null,
      "outputs": []
    },
    {
      "cell_type": "code",
      "metadata": {
        "id": "nfUFqQWFxvQs"
      },
      "source": [
        "fig = px.pie(df, values=x, names=labels,title='Pie chart')\n",
        "fig.show()"
      ],
      "execution_count": null,
      "outputs": []
    },
    {
      "cell_type": "code",
      "metadata": {
        "id": "BRgOY00OxvQu"
      },
      "source": [
        ""
      ],
      "execution_count": null,
      "outputs": []
    },
    {
      "cell_type": "markdown",
      "metadata": {
        "id": "mLwcxmAFxvQu"
      },
      "source": [
        "#### What is the ratio b/w restaurants that provide and do not provide table booking ?"
      ]
    },
    {
      "cell_type": "code",
      "metadata": {
        "id": "mx1ZBTERxvQu"
      },
      "source": [
        "x=df['book_table'].value_counts()\n",
        "labels=['not book','book']\n",
        "plt.pie(x,explode=[0.0,0.1],autopct='%1.1f%%')"
      ],
      "execution_count": null,
      "outputs": []
    },
    {
      "cell_type": "markdown",
      "metadata": {
        "id": "DVduA6A8xvQu"
      },
      "source": [
        "##### using plotly, #### What is the ratio b/w restaurants that provide and do not provide table booking ?"
      ]
    },
    {
      "cell_type": "code",
      "metadata": {
        "id": "S-32NNOVxvQu"
      },
      "source": [
        "import plotly.graph_objs as go\n",
        "from plotly.offline import iplot"
      ],
      "execution_count": null,
      "outputs": []
    },
    {
      "cell_type": "code",
      "metadata": {
        "id": "CI2cHmHJxvQv"
      },
      "source": [
        "x=df['book_table'].value_counts()\n",
        "labels=['not book','book']"
      ],
      "execution_count": null,
      "outputs": []
    },
    {
      "cell_type": "code",
      "metadata": {
        "id": "9IbrWMAxxvQv"
      },
      "source": [
        "trace=go.Pie(labels=labels, values=x,\n",
        "               hoverinfo='label+percent', textinfo='value', \n",
        "               textfont=dict(size=25),\n",
        "              pull=[0, 0, 0,0.2, 0]\n",
        "               )"
      ],
      "execution_count": null,
      "outputs": []
    },
    {
      "cell_type": "code",
      "metadata": {
        "id": "KfIZzOGcxvQv"
      },
      "source": [
        "iplot([trace])"
      ],
      "execution_count": null,
      "outputs": []
    },
    {
      "cell_type": "code",
      "metadata": {
        "id": "GtKv0LOMxvQv"
      },
      "source": [
        ""
      ],
      "execution_count": null,
      "outputs": []
    },
    {
      "cell_type": "code",
      "metadata": {
        "id": "tOlmqsRBxvQv"
      },
      "source": [
        ""
      ],
      "execution_count": null,
      "outputs": []
    },
    {
      "cell_type": "code",
      "metadata": {
        "id": "zO4SlLpdxvQv"
      },
      "source": [
        ""
      ],
      "execution_count": null,
      "outputs": []
    },
    {
      "cell_type": "markdown",
      "metadata": {
        "id": "OPYSjobAxvQv"
      },
      "source": [
        "#### How many types of restaurants we have?"
      ]
    },
    {
      "cell_type": "code",
      "metadata": {
        "id": "ckt-iz7uxvQw"
      },
      "source": [
        "df['rest_type'].isna().sum()"
      ],
      "execution_count": null,
      "outputs": []
    },
    {
      "cell_type": "code",
      "metadata": {
        "id": "YiOGwV0xxvQw"
      },
      "source": [
        "df['rest_type'].dropna(inplace=True)"
      ],
      "execution_count": null,
      "outputs": []
    },
    {
      "cell_type": "code",
      "metadata": {
        "id": "OF4XLEzAxvQw"
      },
      "source": [
        "df['rest_type'].isna().sum()"
      ],
      "execution_count": null,
      "outputs": []
    },
    {
      "cell_type": "code",
      "metadata": {
        "id": "sluLspNnxvQx"
      },
      "source": [
        "len(df['rest_type'].unique())"
      ],
      "execution_count": null,
      "outputs": []
    },
    {
      "cell_type": "code",
      "metadata": {
        "id": "VWB0ratwxvQx"
      },
      "source": [
        "plt.figure(figsize=(20,12))\n",
        "df['rest_type'].value_counts().nlargest(20).plot.bar(color='red')\n",
        "plt.gcf().autofmt_xdate()"
      ],
      "execution_count": null,
      "outputs": []
    },
    {
      "cell_type": "markdown",
      "metadata": {
        "id": "cOwreZlqxvQx"
      },
      "source": [
        "##### now using plotly"
      ]
    },
    {
      "cell_type": "code",
      "metadata": {
        "id": "X2L6cAbJxvQx"
      },
      "source": [
        "trace1 = go.Bar( \n",
        "        x = df['rest_type'].value_counts().nlargest(20).index,\n",
        "        y = df['rest_type'].value_counts().nlargest(20),\n",
        "        name= 'rest_type')"
      ],
      "execution_count": null,
      "outputs": []
    },
    {
      "cell_type": "code",
      "metadata": {
        "id": "hhY7pP4UxvQx"
      },
      "source": [
        "iplot([trace1])"
      ],
      "execution_count": null,
      "outputs": []
    },
    {
      "cell_type": "code",
      "metadata": {
        "id": "VkSdH6sDxvQy"
      },
      "source": [
        ""
      ],
      "execution_count": null,
      "outputs": []
    },
    {
      "cell_type": "markdown",
      "metadata": {
        "id": "dRjN4Tk6xvQy"
      },
      "source": [
        "##### At all, Banglore is known as the tech capital of India,people having busy and modern life will prefer Quick Bites.\n",
        "##### We can observe tha Quick Bites type restaurants dominates."
      ]
    },
    {
      "cell_type": "code",
      "metadata": {
        "id": "WQ8c44MBxvQy"
      },
      "source": [
        ""
      ],
      "execution_count": null,
      "outputs": []
    },
    {
      "cell_type": "markdown",
      "metadata": {
        "id": "b9yOkYJjxvQy"
      },
      "source": [
        "#### highest voted restaurant"
      ]
    },
    {
      "cell_type": "code",
      "metadata": {
        "id": "xO2wJDhxxvQy"
      },
      "source": [
        "df.groupby('name')['votes'].max().nlargest(10).plot.bar()\n",
        "    "
      ],
      "execution_count": null,
      "outputs": []
    },
    {
      "cell_type": "markdown",
      "metadata": {
        "id": "9C6pKRAixvQz"
      },
      "source": [
        "##### now using plotly to  provide interactive graphs"
      ]
    },
    {
      "cell_type": "code",
      "metadata": {
        "id": "sUD2yj4hxvQz"
      },
      "source": [
        "trace1 = go.Bar( \n",
        "        x = df.groupby('name')['votes'].max().nlargest(10).index,\n",
        "        y = df.groupby('name')['votes'].max().nlargest(10),\n",
        "        name= 'name')"
      ],
      "execution_count": null,
      "outputs": []
    },
    {
      "cell_type": "code",
      "metadata": {
        "id": "8PLCyEQBxvQz"
      },
      "source": [
        "iplot([trace1])"
      ],
      "execution_count": null,
      "outputs": []
    },
    {
      "cell_type": "code",
      "metadata": {
        "id": "I1V6bHQ4xvQz"
      },
      "source": [
        ""
      ],
      "execution_count": null,
      "outputs": []
    },
    {
      "cell_type": "markdown",
      "metadata": {
        "id": "aWUGtUvuxvQz"
      },
      "source": [
        "### total restaurants at different locations of Bengalore"
      ]
    },
    {
      "cell_type": "code",
      "metadata": {
        "id": "UGQwGWdexvQz"
      },
      "source": [
        "df.groupby('location')['name'].unique()"
      ],
      "execution_count": null,
      "outputs": []
    },
    {
      "cell_type": "code",
      "metadata": {
        "id": "6-4vQfVTxvQ0"
      },
      "source": [
        "restaurant=[]\n",
        "location=[]\n",
        "for key,location_df in df.groupby('location'):\n",
        "    location.append(key)\n",
        "    restaurant.append(len(location_df['name'].unique()))\n"
      ],
      "execution_count": null,
      "outputs": []
    },
    {
      "cell_type": "code",
      "metadata": {
        "id": "wRhBQowbxvQ0"
      },
      "source": [
        "df_total=pd.DataFrame(zip(location,restaurant))\n",
        "df_total.columns=['location','restaurant']\n",
        "df_total.set_index('location',inplace=True)\n",
        "df_total.sort_values(by='restaurant').tail(10)"
      ],
      "execution_count": null,
      "outputs": []
    },
    {
      "cell_type": "code",
      "metadata": {
        "id": "jxJrqic1xvQ0"
      },
      "source": [
        "df_total.sort_values(by='restaurant').tail(10).plot.bar()\n"
      ],
      "execution_count": null,
      "outputs": []
    },
    {
      "cell_type": "code",
      "metadata": {
        "id": "R6S6s_iaxvQ0"
      },
      "source": [
        "df_total.sort_values(by='restaurant').tail(10).index"
      ],
      "execution_count": null,
      "outputs": []
    },
    {
      "cell_type": "code",
      "metadata": {
        "id": "AGpCxMxHxvQ0"
      },
      "source": [
        "trace1 = go.Bar( \n",
        "        x = df_total['restaurant'].nlargest(10).index,\n",
        "        y = df_total['restaurant'].nlargest(10),\n",
        "        name= 'Priority')"
      ],
      "execution_count": null,
      "outputs": []
    },
    {
      "cell_type": "code",
      "metadata": {
        "id": "SgkajdjuxvQ1"
      },
      "source": [
        "iplot([trace1])"
      ],
      "execution_count": null,
      "outputs": []
    },
    {
      "cell_type": "code",
      "metadata": {
        "id": "J54imDX8xvQ1"
      },
      "source": [
        "df.isnull().sum()"
      ],
      "execution_count": null,
      "outputs": []
    },
    {
      "cell_type": "markdown",
      "metadata": {
        "id": "tdrGP3KpxvQ1"
      },
      "source": [
        "### different type of restaurants"
      ]
    },
    {
      "cell_type": "code",
      "metadata": {
        "id": "Dq3avko7xvQ1"
      },
      "source": [
        "#data is represented in form of percentage \n",
        "(df['rest_type'].value_counts()/len(df))*100"
      ],
      "execution_count": null,
      "outputs": []
    },
    {
      "cell_type": "markdown",
      "metadata": {
        "id": "1Z1fVfqJxvQ1"
      },
      "source": [
        "### Total number of variety of restaurants ie north indian,south Indian"
      ]
    },
    {
      "cell_type": "code",
      "metadata": {
        "id": "EmeVESN2xvQ1"
      },
      "source": [
        "\n",
        "cuisines=df['cuisines'].value_counts()[:10]\n",
        "sns.barplot(cuisines,cuisines.index)\n",
        "plt.xlabel('Count')\n",
        "plt.title(\"Most popular cuisines of Bangalore\")"
      ],
      "execution_count": null,
      "outputs": []
    },
    {
      "cell_type": "code",
      "metadata": {
        "id": "MATdGLUqxvQ2"
      },
      "source": [
        "cuisines=df['cuisines'].value_counts()[:10]\n",
        "trace1 = go.Bar( \n",
        "        x = cuisines.index,\n",
        "        y = cuisines,\n",
        "        name= 'Cuisines')"
      ],
      "execution_count": null,
      "outputs": []
    },
    {
      "cell_type": "code",
      "metadata": {
        "id": "9t5HwY1MxvQ2"
      },
      "source": [
        "iplot([trace1])"
      ],
      "execution_count": null,
      "outputs": []
    },
    {
      "cell_type": "markdown",
      "metadata": {
        "id": "qas-AV78xvQ2"
      },
      "source": [
        "### We can observe that North Indian,chinese,South Indian and Biriyani are most common.\n",
        "### It means Bengalore is more influenced by North Indian culture more than South"
      ]
    },
    {
      "cell_type": "code",
      "metadata": {
        "id": "THQgzce4xvQ2"
      },
      "source": [
        ""
      ],
      "execution_count": null,
      "outputs": []
    },
    {
      "cell_type": "markdown",
      "metadata": {
        "id": "BDGwwQSHxvQ2"
      },
      "source": [
        "### Analyse Approx cost for 2 people"
      ]
    },
    {
      "cell_type": "code",
      "metadata": {
        "id": "73JEA0aoxvQ2",
        "colab": {
          "base_uri": "https://localhost:8080/",
          "height": 162
        },
        "outputId": "b0567233-9844-444a-f387-cc082cb4d358"
      },
      "source": [
        "len(df['approx_cost(for two people)'].value_counts())"
      ],
      "execution_count": null,
      "outputs": [
        {
          "output_type": "error",
          "ename": "NameError",
          "evalue": "ignored",
          "traceback": [
            "\u001b[0;31m---------------------------------------------------------------------------\u001b[0m",
            "\u001b[0;31mNameError\u001b[0m                                 Traceback (most recent call last)",
            "\u001b[0;32m<ipython-input-1-c4d71bc21868>\u001b[0m in \u001b[0;36m<module>\u001b[0;34m()\u001b[0m\n\u001b[0;32m----> 1\u001b[0;31m \u001b[0mlen\u001b[0m\u001b[0;34m(\u001b[0m\u001b[0mdf\u001b[0m\u001b[0;34m[\u001b[0m\u001b[0;34m'approx_cost(for two people)'\u001b[0m\u001b[0;34m]\u001b[0m\u001b[0;34m.\u001b[0m\u001b[0mvalue_counts\u001b[0m\u001b[0;34m(\u001b[0m\u001b[0;34m)\u001b[0m\u001b[0;34m)\u001b[0m\u001b[0;34m\u001b[0m\u001b[0;34m\u001b[0m\u001b[0m\n\u001b[0m",
            "\u001b[0;31mNameError\u001b[0m: name 'df' is not defined"
          ]
        }
      ]
    },
    {
      "cell_type": "code",
      "metadata": {
        "id": "5VeO13NoxvQ3"
      },
      "source": [
        "df['approx_cost(for two people)'].isna().sum()"
      ],
      "execution_count": null,
      "outputs": []
    },
    {
      "cell_type": "code",
      "metadata": {
        "id": "9RrDwaB4xvQ3"
      },
      "source": [
        "df.dropna(axis='index',subset=['approx_cost(for two people)'],inplace=True)"
      ],
      "execution_count": null,
      "outputs": []
    },
    {
      "cell_type": "code",
      "metadata": {
        "id": "NGF37Cm-xvQ3"
      },
      "source": [
        "df['approx_cost(for two people)'].isna().sum()"
      ],
      "execution_count": null,
      "outputs": []
    },
    {
      "cell_type": "code",
      "metadata": {
        "id": "IDdHcNhSxvQ3"
      },
      "source": [
        "df['approx_cost(for two people)'].unique()"
      ],
      "execution_count": null,
      "outputs": []
    },
    {
      "cell_type": "code",
      "metadata": {
        "id": "vZt-1hicxvQ3"
      },
      "source": [
        "def is_float(x):\n",
        "    try:\n",
        "        float(x)\n",
        "    except:\n",
        "        return False\n",
        "    return True"
      ],
      "execution_count": null,
      "outputs": []
    },
    {
      "cell_type": "code",
      "metadata": {
        "id": "IPb9mua5xvQ4"
      },
      "source": [
        "df[~df['approx_cost(for two people)'].apply(is_float)]"
      ],
      "execution_count": null,
      "outputs": []
    },
    {
      "cell_type": "code",
      "metadata": {
        "id": "PcZwoC4cxvQ4"
      },
      "source": [
        "df['approx_cost(for two people)'].dtype"
      ],
      "execution_count": null,
      "outputs": []
    },
    {
      "cell_type": "code",
      "metadata": {
        "id": "jRzqIyH9xvQ4"
      },
      "source": [
        "df['approx_cost(for two people)']"
      ],
      "execution_count": null,
      "outputs": []
    },
    {
      "cell_type": "code",
      "metadata": {
        "id": "t3ePHd3hxvQ4"
      },
      "source": [
        "type(df['approx_cost(for two people)'][0])"
      ],
      "execution_count": null,
      "outputs": []
    },
    {
      "cell_type": "markdown",
      "metadata": {
        "id": "E0EA42fAxvQ4"
      },
      "source": [
        "#### remove ,"
      ]
    },
    {
      "cell_type": "code",
      "metadata": {
        "id": "CTzmSNGRxvQ5"
      },
      "source": [
        "df['approx_cost(for two people)'] = df['approx_cost(for two people)'].apply(lambda x: x.replace(',',''))"
      ],
      "execution_count": null,
      "outputs": []
    },
    {
      "cell_type": "code",
      "metadata": {
        "id": "RERMp3WCxvQ5"
      },
      "source": [
        "df['approx_cost(for two people)']=df['approx_cost(for two people)'].astype(int)"
      ],
      "execution_count": null,
      "outputs": []
    },
    {
      "cell_type": "code",
      "metadata": {
        "id": "5PtGpzl8xvQ5"
      },
      "source": [
        ""
      ],
      "execution_count": null,
      "outputs": []
    },
    {
      "cell_type": "markdown",
      "metadata": {
        "id": "OP68C0bvxvQ5"
      },
      "source": [
        "##### cost vs rating"
      ]
    },
    {
      "cell_type": "code",
      "metadata": {
        "id": "d6w0774KxvQ5"
      },
      "source": [
        "plt.figure(figsize=(10,7))\n",
        "sns.scatterplot(x=\"rate\",y='approx_cost(for two people)',hue='online_order',data=df)\n",
        "plt.show()"
      ],
      "execution_count": null,
      "outputs": []
    },
    {
      "cell_type": "markdown",
      "metadata": {
        "id": "4kLMLdIyxvQ5"
      },
      "source": [
        "##### from this scattterplot,we can come up with a conclusion ya most of the highest rated accepts online order and they r budgeted too"
      ]
    },
    {
      "cell_type": "code",
      "metadata": {
        "id": "37dxnDEvxvQ6"
      },
      "source": [
        ""
      ],
      "execution_count": null,
      "outputs": []
    },
    {
      "cell_type": "code",
      "metadata": {
        "id": "yw9p3xkuxvQ6"
      },
      "source": [
        "df.head()"
      ],
      "execution_count": null,
      "outputs": []
    },
    {
      "cell_type": "code",
      "metadata": {
        "id": "PZa4-Eb5xvQ6"
      },
      "source": [
        ""
      ],
      "execution_count": null,
      "outputs": []
    },
    {
      "cell_type": "markdown",
      "metadata": {
        "id": "WBEDgCm2xvQ6"
      },
      "source": [
        "### Is there any difference b/w votes of restaurants accepting and not accepting online orders?"
      ]
    },
    {
      "cell_type": "code",
      "metadata": {
        "id": "YTTmKLsvxvQ6"
      },
      "source": [
        "sns.boxplot(x='online_order',y='votes',data=df)"
      ],
      "execution_count": null,
      "outputs": []
    },
    {
      "cell_type": "markdown",
      "metadata": {
        "id": "mcpwhWsvxvQ6"
      },
      "source": [
        "#### from this boxplot,we can observe that median number of votes for both categories vary.\n",
        "#### Restaurants accepting online orders get more votes from customers as there is a rating option poping up after each order through zomato application."
      ]
    },
    {
      "cell_type": "code",
      "metadata": {
        "id": "bO8mxZlyxvQ6"
      },
      "source": [
        ""
      ],
      "execution_count": null,
      "outputs": []
    },
    {
      "cell_type": "code",
      "metadata": {
        "id": "g5EqpLDyxvQ7"
      },
      "source": [
        ""
      ],
      "execution_count": null,
      "outputs": []
    },
    {
      "cell_type": "markdown",
      "metadata": {
        "id": "8H4L19d3xvQ7"
      },
      "source": [
        "#### Is there any difference b/w price of restaurants accepting and not accepting online orders?"
      ]
    },
    {
      "cell_type": "code",
      "metadata": {
        "id": "28aNdrXSxvQ7"
      },
      "source": [
        "sns.boxplot(x='online_order',y='approx_cost(for two people)',data=df)"
      ],
      "execution_count": null,
      "outputs": []
    },
    {
      "cell_type": "code",
      "metadata": {
        "id": "haROQUzhxvQ7"
      },
      "source": [
        "fig = px.box(df,x='online_order',y='approx_cost(for two people)')\n",
        "fig.show()"
      ],
      "execution_count": null,
      "outputs": []
    },
    {
      "cell_type": "markdown",
      "metadata": {
        "id": "3WoOM6-txvQ8"
      },
      "source": [
        "#### Restaurants accepting online orders are more affordable than Restaurants who are accepting online orders"
      ]
    },
    {
      "cell_type": "code",
      "metadata": {
        "id": "MzF2AaodxvQ8"
      },
      "source": [
        ""
      ],
      "execution_count": null,
      "outputs": []
    },
    {
      "cell_type": "code",
      "metadata": {
        "id": "fbdpLKGQxvQ8"
      },
      "source": [
        ""
      ],
      "execution_count": null,
      "outputs": []
    },
    {
      "cell_type": "markdown",
      "metadata": {
        "id": "mhR2dwBNxvQ8"
      },
      "source": [
        "### Cheapest Rate for 2 people"
      ]
    },
    {
      "cell_type": "code",
      "metadata": {
        "id": "9BbAMXFIxvQ8"
      },
      "source": [
        "df['approx_cost(for two people)'].min()"
      ],
      "execution_count": null,
      "outputs": []
    },
    {
      "cell_type": "markdown",
      "metadata": {
        "id": "l_cClnfQxvQ9"
      },
      "source": [
        "### Most costly for 2 people"
      ]
    },
    {
      "cell_type": "code",
      "metadata": {
        "id": "MzpKmkaQxvQ9"
      },
      "source": [
        "df['approx_cost(for two people)'].max()"
      ],
      "execution_count": null,
      "outputs": []
    },
    {
      "cell_type": "code",
      "metadata": {
        "id": "EfbPn5trxvQ9"
      },
      "source": [
        "df[df['approx_cost(for two people)']==6000]"
      ],
      "execution_count": null,
      "outputs": []
    },
    {
      "cell_type": "code",
      "metadata": {
        "id": "ZthiE6zpxvQ9"
      },
      "source": [
        "df[df['approx_cost(for two people)']==6000]['name']"
      ],
      "execution_count": null,
      "outputs": []
    },
    {
      "cell_type": "code",
      "metadata": {
        "id": "CjuDPLeQxvQ9"
      },
      "source": [
        ""
      ],
      "execution_count": null,
      "outputs": []
    },
    {
      "cell_type": "markdown",
      "metadata": {
        "id": "dV-RYm6lxvQ9"
      },
      "source": [
        "##### distribution of cost for 2 people"
      ]
    },
    {
      "cell_type": "code",
      "metadata": {
        "id": "w152-pduxvQ-"
      },
      "source": [
        "plt.figure(figsize=(6,6))\n",
        "sns.distplot(df['approx_cost(for two people)'])\n",
        "plt.show()"
      ],
      "execution_count": null,
      "outputs": []
    },
    {
      "cell_type": "code",
      "metadata": {
        "id": "wXQ5KfXVxvQ-"
      },
      "source": [
        "px.histogram(df, x=\"approx_cost(for two people)\")"
      ],
      "execution_count": null,
      "outputs": []
    },
    {
      "cell_type": "markdown",
      "metadata": {
        "id": "iL5uEZfuxvQ_"
      },
      "source": [
        "##### most of the price lies between in a range of under 1000,it means most are affordable & very few are luxurious"
      ]
    },
    {
      "cell_type": "code",
      "metadata": {
        "id": "tE7phQS-xvQ_"
      },
      "source": [
        ""
      ],
      "execution_count": null,
      "outputs": []
    },
    {
      "cell_type": "markdown",
      "metadata": {
        "id": "cEdrftq2xvQ_"
      },
      "source": [
        "### Most costly Rate for 2 people is served at which Restaurant what exactly is the dish involved in this and liked dish of that restaurant"
      ]
    },
    {
      "cell_type": "code",
      "metadata": {
        "id": "Ajeocz1exvQ_"
      },
      "source": [
        "df[df['approx_cost(for two people)']==6000].loc[:,('name','cuisines','dish_liked')]"
      ],
      "execution_count": null,
      "outputs": []
    },
    {
      "cell_type": "code",
      "metadata": {
        "id": "H9IF2YGexvRA"
      },
      "source": [
        "df[df['approx_cost(for two people)']==6000][['name','cuisines','dish_liked']]"
      ],
      "execution_count": null,
      "outputs": []
    },
    {
      "cell_type": "code",
      "metadata": {
        "id": "_B0DimWqxvRA"
      },
      "source": [
        "data=df.copy()"
      ],
      "execution_count": null,
      "outputs": []
    },
    {
      "cell_type": "code",
      "metadata": {
        "id": "8n31t8xCxvRA"
      },
      "source": [
        "data.dtypes"
      ],
      "execution_count": null,
      "outputs": []
    },
    {
      "cell_type": "code",
      "metadata": {
        "id": "fMUw9lBtxvRA"
      },
      "source": [
        "data.set_index('name',inplace=True)"
      ],
      "execution_count": null,
      "outputs": []
    },
    {
      "cell_type": "code",
      "metadata": {
        "id": "0FSSPBUexvRA"
      },
      "source": [
        ""
      ],
      "execution_count": null,
      "outputs": []
    },
    {
      "cell_type": "markdown",
      "metadata": {
        "id": "HzDQSBeDxvRA"
      },
      "source": [
        "### Top 10 Most Expensive restaurant with approx cost for 2 people"
      ]
    },
    {
      "cell_type": "code",
      "metadata": {
        "id": "tp-2HKO8xvRB"
      },
      "source": [
        "data['approx_cost(for two people)'].nlargest(10).plot.bar()"
      ],
      "execution_count": null,
      "outputs": []
    },
    {
      "cell_type": "code",
      "metadata": {
        "id": "vNdhNyQbxvRB"
      },
      "source": [
        "trace1 = go.Bar( \n",
        "        x = data['approx_cost(for two people)'].nlargest(10).index,\n",
        "        y = data['approx_cost(for two people)'].nlargest(10),\n",
        "        name= 'Priority')\n",
        "iplot([trace1])"
      ],
      "execution_count": null,
      "outputs": []
    },
    {
      "cell_type": "code",
      "metadata": {
        "id": "y9xH7XfAxvRB"
      },
      "source": [
        ""
      ],
      "execution_count": null,
      "outputs": []
    },
    {
      "cell_type": "markdown",
      "metadata": {
        "id": "R5WLjivaxvRB"
      },
      "source": [
        "### Top 10 Cheapest restaurant with approx cost for 2 people"
      ]
    },
    {
      "cell_type": "code",
      "metadata": {
        "id": "h6r04PhQxvRB"
      },
      "source": [
        "data['approx_cost(for two people)'].nsmallest(10).plot.bar()"
      ],
      "execution_count": null,
      "outputs": []
    },
    {
      "cell_type": "code",
      "metadata": {
        "id": "QqBveQkHxvRC"
      },
      "source": [
        "trace1 = go.Bar( \n",
        "        x = data['approx_cost(for two people)'].nsmallest(10).index,\n",
        "        y = data['approx_cost(for two people)'].nsmallest(10),\n",
        "        name= 'Priority')\n",
        "iplot([trace1])"
      ],
      "execution_count": null,
      "outputs": []
    },
    {
      "cell_type": "code",
      "metadata": {
        "id": "NJGpBv3SxvRC"
      },
      "source": [
        ""
      ],
      "execution_count": null,
      "outputs": []
    },
    {
      "cell_type": "markdown",
      "metadata": {
        "id": "okAsR2N_xvRC"
      },
      "source": [
        "### Top 10 Cheapest restaurant location wise with approx cost for 2 people "
      ]
    },
    {
      "cell_type": "code",
      "metadata": {
        "id": "U6Pfey5LxvRC"
      },
      "source": [
        "data.set_index('location',inplace=True)\n",
        "data['approx_cost(for two people)'].nsmallest(10)"
      ],
      "execution_count": null,
      "outputs": []
    },
    {
      "cell_type": "markdown",
      "metadata": {
        "id": "AeI8kklXxvRC"
      },
      "source": [
        "### all the restautant that are below than 500(budget hotel)"
      ]
    },
    {
      "cell_type": "code",
      "metadata": {
        "id": "PkHEo5ZxxvRC"
      },
      "source": [
        "data[data['approx_cost(for two people)']<=500]"
      ],
      "execution_count": null,
      "outputs": []
    },
    {
      "cell_type": "code",
      "metadata": {
        "id": "0ySkxBDuxvRD"
      },
      "source": [
        "df_budget=data[data['approx_cost(for two people)']<=500].loc[:,('approx_cost(for two people)')]\n",
        "df_budget=df_budget.reset_index()\n",
        "df_budget.head()"
      ],
      "execution_count": null,
      "outputs": []
    },
    {
      "cell_type": "code",
      "metadata": {
        "id": "KJCZynPdxvRD"
      },
      "source": [
        "df_budget['approx_cost(for two people)'].value_counts().plot.bar()"
      ],
      "execution_count": null,
      "outputs": []
    },
    {
      "cell_type": "markdown",
      "metadata": {
        "id": "bxu0sy72xvRD"
      },
      "source": [
        "### we can conclude that 300 and 400 cost dishes are maximum in count"
      ]
    },
    {
      "cell_type": "code",
      "metadata": {
        "id": "vNA3-B7GxvRD"
      },
      "source": [
        "trace1 = go.Bar( \n",
        "        x = df_budget['approx_cost(for two people)'].value_counts().index,\n",
        "        y = df_budget['approx_cost(for two people)'].value_counts(),\n",
        "        name= 'Priority')\n",
        "iplot([trace1])"
      ],
      "execution_count": null,
      "outputs": []
    },
    {
      "cell_type": "code",
      "metadata": {
        "id": "GAx5ssmMxvRE"
      },
      "source": [
        ""
      ],
      "execution_count": null,
      "outputs": []
    },
    {
      "cell_type": "markdown",
      "metadata": {
        "id": "QpoQXxCqxvRE"
      },
      "source": [
        "### Restaurants that have better rating >4 and that are under budget too"
      ]
    },
    {
      "cell_type": "code",
      "metadata": {
        "id": "53ztwYcZxvRE"
      },
      "source": [
        "df[(df['rate']>=4) & (df['approx_cost(for two people)']<=500)].shape\n"
      ],
      "execution_count": null,
      "outputs": []
    },
    {
      "cell_type": "markdown",
      "metadata": {
        "id": "gZvxC0dxxvRE"
      },
      "source": [
        "### Total no. of Restaurants that have better rating >4 and that are under budget too ie less than 500"
      ]
    },
    {
      "cell_type": "code",
      "metadata": {
        "id": "LT8ULJo9xvRE"
      },
      "source": [
        "df_new=df[(df['rate']>=4) & (df['approx_cost(for two people)']<=500)]\n",
        "len(df_new['name'].unique())"
      ],
      "execution_count": null,
      "outputs": []
    },
    {
      "cell_type": "code",
      "metadata": {
        "id": "g4d3oQWTxvRF"
      },
      "source": [
        ""
      ],
      "execution_count": null,
      "outputs": []
    },
    {
      "cell_type": "markdown",
      "metadata": {
        "id": "nKV0u5hcxvRF"
      },
      "source": [
        "### Total such various  affordable hotels at different location"
      ]
    },
    {
      "cell_type": "code",
      "metadata": {
        "id": "gofmNDS8xvRF"
      },
      "source": [
        "location=[]\n",
        "total=[]\n",
        "for loc,location_df in df_new.groupby('location'):\n",
        "    location.append(loc)\n",
        "    total.append(len(location_df['name'].unique()))\n",
        "    \n",
        "    "
      ],
      "execution_count": null,
      "outputs": []
    },
    {
      "cell_type": "code",
      "metadata": {
        "id": "qVYXq7oIxvRF"
      },
      "source": [
        "len(location)"
      ],
      "execution_count": null,
      "outputs": []
    },
    {
      "cell_type": "code",
      "metadata": {
        "id": "7xtwEv1zxvRF"
      },
      "source": [
        "len(total)"
      ],
      "execution_count": null,
      "outputs": []
    },
    {
      "cell_type": "code",
      "metadata": {
        "id": "9zHNo2oTxvRF"
      },
      "source": [
        "location_df=pd.DataFrame(zip(location,total))\n",
        "location_df.columns=['location','restaurant']\n",
        "location_df.set_index('location',inplace=True)\n"
      ],
      "execution_count": null,
      "outputs": []
    },
    {
      "cell_type": "code",
      "metadata": {
        "id": "G_4Cme2txvRG"
      },
      "source": [
        "location_df.head(20)"
      ],
      "execution_count": null,
      "outputs": []
    },
    {
      "cell_type": "code",
      "metadata": {
        "id": "dnzYzMERxvRG"
      },
      "source": [
        "type(location)"
      ],
      "execution_count": null,
      "outputs": []
    },
    {
      "cell_type": "code",
      "metadata": {
        "id": "RqKtADYJxvRG"
      },
      "source": [
        "\n",
        "location_df['restaurant'].nlargest(10).plot.bar()\n",
        "plt.gcf().autofmt_xdate()\n",
        "plt.ylabel('Total restaurants')"
      ],
      "execution_count": null,
      "outputs": []
    },
    {
      "cell_type": "code",
      "metadata": {
        "id": "CKeKLSZcxvRG"
      },
      "source": [
        "trace1 = go.Bar( \n",
        "        x = location_df['restaurant'].nlargest(10).index,\n",
        "        y = location_df['restaurant'].nlargest(10),\n",
        "        name= 'Priority')\n",
        "iplot([trace1])"
      ],
      "execution_count": null,
      "outputs": []
    },
    {
      "cell_type": "code",
      "metadata": {
        "id": "HotY1nfYxvRH"
      },
      "source": [
        ""
      ],
      "execution_count": null,
      "outputs": []
    },
    {
      "cell_type": "code",
      "metadata": {
        "id": "Q1tIkdGuxvRH"
      },
      "source": [
        ""
      ],
      "execution_count": null,
      "outputs": []
    },
    {
      "cell_type": "markdown",
      "metadata": {
        "id": "0zlwfoibxvRH"
      },
      "source": [
        "# To Visualise what are the names of those hotels"
      ]
    },
    {
      "cell_type": "code",
      "metadata": {
        "id": "L4uEJr8CxvRH"
      },
      "source": [
        "location=[]\n",
        "total=[]\n",
        "for loc,location_df in df_new.groupby('location'):\n",
        "    location.append(loc)\n",
        "    total.append(location_df['name'].unique())\n",
        "    "
      ],
      "execution_count": null,
      "outputs": []
    },
    {
      "cell_type": "code",
      "metadata": {
        "id": "adSo8aEExvRH"
      },
      "source": [
        "afford=pd.DataFrame(zip(location,total))\n",
        "afford.columns=['location','res_names']\n",
        "afford.set_index('location',inplace=True)\n",
        "afford.head()"
      ],
      "execution_count": null,
      "outputs": []
    },
    {
      "cell_type": "code",
      "metadata": {
        "id": "maCp9HguxvRH"
      },
      "source": [
        ""
      ],
      "execution_count": null,
      "outputs": []
    },
    {
      "cell_type": "markdown",
      "metadata": {
        "id": "RjyX450kxvRH"
      },
      "source": [
        "### Finding Best budget Restaurants in any location"
      ]
    },
    {
      "cell_type": "markdown",
      "metadata": {
        "id": "GfCnDf3txvRI"
      },
      "source": [
        "###### we will pass location and restaurant type as parameteres,function will return name of restaurants."
      ]
    },
    {
      "cell_type": "code",
      "metadata": {
        "id": "k7fk1P8OxvRI"
      },
      "source": [
        "def return_budget(location,restaurant):\n",
        "    budget=df[(df['approx_cost(for two people)']<=400) & (df['location']==location) & \n",
        "                     (df['rate']>4) & (df['rest_type']==restaurant)]\n",
        "    return(budget['name'].unique())"
      ],
      "execution_count": null,
      "outputs": []
    },
    {
      "cell_type": "code",
      "metadata": {
        "id": "NI3oU-m6xvRI"
      },
      "source": [
        "return_budget('BTM',\"Quick Bites\")"
      ],
      "execution_count": null,
      "outputs": []
    },
    {
      "cell_type": "code",
      "metadata": {
        "id": "9q7Kz9KSxvRI"
      },
      "source": [
        ""
      ],
      "execution_count": null,
      "outputs": []
    },
    {
      "cell_type": "markdown",
      "metadata": {
        "id": "5PZ0xuFtxvRI"
      },
      "source": [
        "### Which are the foodie areas?"
      ]
    },
    {
      "cell_type": "code",
      "metadata": {
        "id": "nweFKtRoxvRJ"
      },
      "source": [
        "plt.figure(figsize=(10,7))\n",
        "Restaurant_locations=df['location'].value_counts()[:20]\n",
        "sns.barplot(Restaurant_locations,Restaurant_locations.index)"
      ],
      "execution_count": null,
      "outputs": []
    },
    {
      "cell_type": "code",
      "metadata": {
        "id": "8nBn0DEIxvRJ"
      },
      "source": [
        "Restaurant_locations=df['location'].value_counts()[:20]\n",
        "trace1 = go.Bar( \n",
        "        x = Restaurant_locations.index,\n",
        "        y = Restaurant_locations,\n",
        "        name= 'Priority')\n",
        "iplot([trace1])"
      ],
      "execution_count": null,
      "outputs": []
    },
    {
      "cell_type": "markdown",
      "metadata": {
        "id": "Xiw4eKosxvRJ"
      },
      "source": [
        "#### We can see that BTM,HSR and Koranmangala 5th block has the most number of restaurants.\n",
        "#### BTM dominates the section by having more than 5000 restaurants."
      ]
    },
    {
      "cell_type": "code",
      "metadata": {
        "id": "y-c8cw-OxvRK"
      },
      "source": [
        ""
      ],
      "execution_count": null,
      "outputs": []
    },
    {
      "cell_type": "code",
      "metadata": {
        "id": "ueLM7WROxvRK"
      },
      "source": [
        ""
      ],
      "execution_count": null,
      "outputs": []
    },
    {
      "cell_type": "markdown",
      "metadata": {
        "id": "tvx7TsJ9xvRK"
      },
      "source": [
        "### geographical analysis"
      ]
    },
    {
      "cell_type": "markdown",
      "metadata": {
        "id": "5PozijcexvRK"
      },
      "source": [
        "#### I need Latitudes & longitudes for each of the place for geaographical Data analysis,so to fetch lat,lon of each place,use Geopy"
      ]
    },
    {
      "cell_type": "code",
      "metadata": {
        "id": "5hHOWdqMxvRK"
      },
      "source": [
        "df.shape"
      ],
      "execution_count": null,
      "outputs": []
    },
    {
      "cell_type": "code",
      "metadata": {
        "id": "ZaouF3lMxvRL"
      },
      "source": [
        "len(df['location'].unique())"
      ],
      "execution_count": null,
      "outputs": []
    },
    {
      "cell_type": "code",
      "metadata": {
        "id": "lxHpBwIHxvRL"
      },
      "source": [
        "locations=pd.DataFrame({\"Name\":df['location'].unique()})"
      ],
      "execution_count": null,
      "outputs": []
    },
    {
      "cell_type": "code",
      "metadata": {
        "id": "dsN9MBWoxvRL"
      },
      "source": [
        "locations['new_Name']='Bangalore '+locations['Name']"
      ],
      "execution_count": null,
      "outputs": []
    },
    {
      "cell_type": "code",
      "metadata": {
        "id": "KHQAZjjRxvRM"
      },
      "source": [
        "locations.head()"
      ],
      "execution_count": null,
      "outputs": []
    },
    {
      "cell_type": "code",
      "metadata": {
        "id": "RQqSXRPmxvRM"
      },
      "source": [
        "!pip install geopy"
      ],
      "execution_count": null,
      "outputs": []
    },
    {
      "cell_type": "code",
      "metadata": {
        "id": "c9ByNxWJxvRM"
      },
      "source": [
        "from geopy.geocoders import Nominatim"
      ],
      "execution_count": null,
      "outputs": []
    },
    {
      "cell_type": "code",
      "metadata": {
        "id": "EwS0GUe7xvRN"
      },
      "source": [
        "lat_lon=[]\n",
        "geolocator=Nominatim(user_agent=\"app\")\n",
        "for location in locations['Name']:\n",
        "    location = geolocator.geocode(location)\n",
        "    if location is None:\n",
        "        lat_lon.append(np.nan)\n",
        "    else:    \n",
        "        geo=(location.latitude,location.longitude)\n",
        "        lat_lon.append(geo)"
      ],
      "execution_count": null,
      "outputs": []
    },
    {
      "cell_type": "code",
      "metadata": {
        "id": "8d4WdhYfxvRO"
      },
      "source": [
        "locations['geo_loc']=lat_lon"
      ],
      "execution_count": null,
      "outputs": []
    },
    {
      "cell_type": "code",
      "metadata": {
        "id": "OjwSSGTVxvRO"
      },
      "source": [
        "locations.head()"
      ],
      "execution_count": null,
      "outputs": []
    },
    {
      "cell_type": "code",
      "metadata": {
        "id": "QhIJsn2VxvRP"
      },
      "source": [
        "locations.to_csv('zomato_locations.csv',index=False)"
      ],
      "execution_count": null,
      "outputs": []
    },
    {
      "cell_type": "markdown",
      "metadata": {
        "id": "DCKryDOsxvRQ"
      },
      "source": [
        "##### We have found out latitude and longitude of each location listed in the dataset using geopy.\n",
        "##### This is used to plot maps."
      ]
    },
    {
      "cell_type": "code",
      "metadata": {
        "id": "edIygzaFxvRQ"
      },
      "source": [
        "Rest_locations=pd.DataFrame(df['location'].value_counts().reset_index())"
      ],
      "execution_count": null,
      "outputs": []
    },
    {
      "cell_type": "code",
      "metadata": {
        "id": "xu1WPKf4xvRQ"
      },
      "source": [
        "Rest_locations.columns=['Name','count']\n",
        "Rest_locations.head()"
      ],
      "execution_count": null,
      "outputs": []
    },
    {
      "cell_type": "markdown",
      "metadata": {
        "id": "3okAX430xvRR"
      },
      "source": [
        "##### now combine both the dataframes"
      ]
    },
    {
      "cell_type": "code",
      "metadata": {
        "id": "bDLzjTm2xvRR"
      },
      "source": [
        "locations.head()"
      ],
      "execution_count": null,
      "outputs": []
    },
    {
      "cell_type": "code",
      "metadata": {
        "id": "eYc7CRhsxvRR"
      },
      "source": [
        "locations.shape"
      ],
      "execution_count": null,
      "outputs": []
    },
    {
      "cell_type": "code",
      "metadata": {
        "id": "sDhT7WMUxvRS"
      },
      "source": [
        "Rest_locations.shape"
      ],
      "execution_count": null,
      "outputs": []
    },
    {
      "cell_type": "code",
      "metadata": {
        "id": "oi6Lb5WSxvRS"
      },
      "source": [
        "Restaurant_locations=Rest_locations.merge(locations,on='Name',how=\"left\").dropna()\n",
        "Restaurant_locations.head()"
      ],
      "execution_count": null,
      "outputs": []
    },
    {
      "cell_type": "code",
      "metadata": {
        "id": "_SHTuz7WxvRS"
      },
      "source": [
        "Restaurant_locations.shape"
      ],
      "execution_count": null,
      "outputs": []
    },
    {
      "cell_type": "code",
      "metadata": {
        "id": "-CZXnAQIxvRT"
      },
      "source": [
        "Restaurant_locations['count'].max()"
      ],
      "execution_count": null,
      "outputs": []
    },
    {
      "cell_type": "code",
      "metadata": {
        "id": "0Q3t3JrGxvRT"
      },
      "source": [
        "type(Restaurant_locations['geo_loc'][0])"
      ],
      "execution_count": null,
      "outputs": []
    },
    {
      "cell_type": "code",
      "metadata": {
        "id": "GWquIJNlxvRV"
      },
      "source": [
        "def generateBaseMap(default_location=[12.97, 77.59], default_zoom_start=12):\n",
        "    base_map = folium.Map(location=default_location, zoom_start=default_zoom_start)\n",
        "    return base_map"
      ],
      "execution_count": null,
      "outputs": []
    },
    {
      "cell_type": "code",
      "metadata": {
        "id": "MpvOgFEExvRV"
      },
      "source": [
        "len(Restaurant_locations['geo_loc'])"
      ],
      "execution_count": null,
      "outputs": []
    },
    {
      "cell_type": "code",
      "metadata": {
        "id": "Kg7pHCe-xvRW"
      },
      "source": [
        "Restaurant_locations.isna().sum()"
      ],
      "execution_count": null,
      "outputs": []
    },
    {
      "cell_type": "code",
      "metadata": {
        "id": "xaijQGbWxvRW"
      },
      "source": [
        "Restaurant_locations['geo_loc'][0][0]"
      ],
      "execution_count": null,
      "outputs": []
    },
    {
      "cell_type": "code",
      "metadata": {
        "id": "Rb3WVwwJxvRW"
      },
      "source": [
        "Restaurant_locations['geo_loc'][0][1]"
      ],
      "execution_count": null,
      "outputs": []
    },
    {
      "cell_type": "code",
      "metadata": {
        "id": "WC3albo7xvRX"
      },
      "source": [
        "np.array(Restaurant_locations['geo_loc'])"
      ],
      "execution_count": null,
      "outputs": []
    },
    {
      "cell_type": "code",
      "metadata": {
        "id": "hLSlyAhVxvRX"
      },
      "source": [
        "#### unzip it\n",
        "lat,lon=zip(*np.array(Restaurant_locations['geo_loc']))"
      ],
      "execution_count": null,
      "outputs": []
    },
    {
      "cell_type": "code",
      "metadata": {
        "id": "EALIdSv3xvRX"
      },
      "source": [
        "type(lat)"
      ],
      "execution_count": null,
      "outputs": []
    },
    {
      "cell_type": "code",
      "metadata": {
        "id": "6ML4-IFnxvRX"
      },
      "source": [
        "Restaurant_locations['lat']=lat\n",
        "Restaurant_locations['lon']=lon"
      ],
      "execution_count": null,
      "outputs": []
    },
    {
      "cell_type": "code",
      "metadata": {
        "id": "jKocfQ2QxvRY"
      },
      "source": [
        "Restaurant_locations.head()"
      ],
      "execution_count": null,
      "outputs": []
    },
    {
      "cell_type": "code",
      "metadata": {
        "id": "P9v9iJW9xvRY"
      },
      "source": [
        "!pip install folium"
      ],
      "execution_count": null,
      "outputs": []
    },
    {
      "cell_type": "code",
      "metadata": {
        "id": "XaXP-FepxvRY"
      },
      "source": [
        "import folium\n",
        "from folium.plugins import HeatMap\n",
        "basemap=generateBaseMap()"
      ],
      "execution_count": null,
      "outputs": []
    },
    {
      "cell_type": "code",
      "metadata": {
        "id": "gSxSWgqfxvRY"
      },
      "source": [
        "basemap"
      ],
      "execution_count": null,
      "outputs": []
    },
    {
      "cell_type": "code",
      "metadata": {
        "id": "xUd9j7frxvRZ"
      },
      "source": [
        "Restaurant_locations[['lat','lon','count']].values.tolist()"
      ],
      "execution_count": null,
      "outputs": []
    },
    {
      "cell_type": "code",
      "metadata": {
        "id": "6knCaQrJxvRZ"
      },
      "source": [
        "HeatMap(Restaurant_locations[['lat','lon','count']].values.tolist(),zoom=20,radius=15).add_to(basemap)"
      ],
      "execution_count": null,
      "outputs": []
    },
    {
      "cell_type": "code",
      "metadata": {
        "id": "CmDYB7aJxvRa"
      },
      "source": [
        "basemap"
      ],
      "execution_count": null,
      "outputs": []
    },
    {
      "cell_type": "markdown",
      "metadata": {
        "id": "xsw91Zu5xvRa"
      },
      "source": [
        "##### It is clear that restaurants tend to concentrate in central bangalore area.\n",
        "##### The clutter of restaurants lowers are we move away from central.\n",
        "##### So,potential restaurant entrepreneurs can refer this and find out good locations for their venture."
      ]
    },
    {
      "cell_type": "markdown",
      "metadata": {
        "id": "wD__VQffxvRa"
      },
      "source": [
        "#### note heatmap is good when we have latitude,longitude or imporatnce of that particular place or count of that place"
      ]
    },
    {
      "cell_type": "markdown",
      "metadata": {
        "id": "j5Uh4cNZxvRa"
      },
      "source": [
        "### Heatmap of North Indian restaurants"
      ]
    },
    {
      "cell_type": "code",
      "metadata": {
        "id": "QdqWs1b7xvRb"
      },
      "source": [
        "df.head()"
      ],
      "execution_count": null,
      "outputs": []
    },
    {
      "cell_type": "code",
      "metadata": {
        "id": "MAlAEfg9xvRb"
      },
      "source": [
        "df2= df[df['cuisines']=='North Indian']\n",
        "df2.head()"
      ],
      "execution_count": null,
      "outputs": []
    },
    {
      "cell_type": "code",
      "metadata": {
        "id": "crbmiKaKxvRb"
      },
      "source": [
        "north_india=df2.groupby(['location'],as_index=False)['url'].agg('count')\n",
        "north_india.columns=['Name','count']\n",
        "north_india.head()"
      ],
      "execution_count": null,
      "outputs": []
    },
    {
      "cell_type": "code",
      "metadata": {
        "id": "imNiGIbRxvRc"
      },
      "source": [
        "north_india=north_india.merge(locations,on=\"Name\",how='left').dropna()"
      ],
      "execution_count": null,
      "outputs": []
    },
    {
      "cell_type": "code",
      "metadata": {
        "id": "7W63PAkmxvRc"
      },
      "source": [
        "north_india.head()"
      ],
      "execution_count": null,
      "outputs": []
    },
    {
      "cell_type": "code",
      "metadata": {
        "id": "z_Ia3WDixvRc"
      },
      "source": [
        "north_india['lan'],north_india['lon']=zip(*north_india['geo_loc'].values)\n"
      ],
      "execution_count": null,
      "outputs": []
    },
    {
      "cell_type": "code",
      "metadata": {
        "id": "1jGcYvmTxvRc"
      },
      "source": [
        "north_india.drop(['geo_loc'],axis=1)"
      ],
      "execution_count": null,
      "outputs": []
    },
    {
      "cell_type": "code",
      "metadata": {
        "id": "dh6ppnr3xvRc"
      },
      "source": [
        "basemap=generateBaseMap()\n",
        "HeatMap(north_india[['lan','lon','count']].values.tolist(),zoom=20,radius=15).add_to(basemap)\n",
        "basemap"
      ],
      "execution_count": null,
      "outputs": []
    },
    {
      "cell_type": "code",
      "metadata": {
        "id": "53ZDNYe5xvRd"
      },
      "source": [
        ""
      ],
      "execution_count": null,
      "outputs": []
    },
    {
      "cell_type": "markdown",
      "metadata": {
        "id": "YtBB8doyxvRd"
      },
      "source": [
        "###### What about South Indian cuisines?"
      ]
    },
    {
      "cell_type": "code",
      "metadata": {
        "id": "QuoUcjFhxvRd"
      },
      "source": [
        "df3= df[df['cuisines']=='South Indian']\n",
        "south_india=df2.groupby(['location'],as_index=False)['url'].agg('count')\n",
        "south_india.columns=['Name','count']\n",
        "south_india=south_india.merge(locations,on=\"Name\",how='left').dropna()\n",
        "south_india['lan'],south_india['lon']=zip(*south_india['geo_loc'].values)\n"
      ],
      "execution_count": null,
      "outputs": []
    },
    {
      "cell_type": "code",
      "metadata": {
        "id": "0uIUVlP4xvRd"
      },
      "source": [
        "south_india=south_india.drop(['geo_loc'],axis=1)"
      ],
      "execution_count": null,
      "outputs": []
    },
    {
      "cell_type": "code",
      "metadata": {
        "id": "0uvh4x26xvRe"
      },
      "source": [
        "south_india.head()"
      ],
      "execution_count": null,
      "outputs": []
    },
    {
      "cell_type": "code",
      "metadata": {
        "id": "oMhZf0gVxvRe"
      },
      "source": [
        "basemap=generateBaseMap()\n",
        "HeatMap(south_india[['lan','lon','count']].values.tolist(),zoom=20,radius=15).add_to(basemap)\n",
        "basemap"
      ],
      "execution_count": null,
      "outputs": []
    },
    {
      "cell_type": "code",
      "metadata": {
        "id": "EJZzVr0BxvRe"
      },
      "source": [
        ""
      ],
      "execution_count": null,
      "outputs": []
    },
    {
      "cell_type": "markdown",
      "metadata": {
        "id": "shUtEO4VxvRe"
      },
      "source": [
        "##### Which are the most popular casual dining restaurant chains?"
      ]
    },
    {
      "cell_type": "code",
      "metadata": {
        "id": "GRCxi4SMxvRe"
      },
      "source": [
        "df_1=df.groupby(['rest_type','name']).agg('count')\n",
        "datas=df_1.sort_values(['url'],ascending=False).groupby(['rest_type'],\n",
        "                as_index=False).apply(lambda x : x.sort_values(by=\"url\",ascending=False).head(3))['url'].reset_index().rename(columns={'url':'count'})"
      ],
      "execution_count": null,
      "outputs": []
    },
    {
      "cell_type": "code",
      "metadata": {
        "id": "pF-uBkS8xvRf"
      },
      "source": [
        "datas"
      ],
      "execution_count": null,
      "outputs": []
    },
    {
      "cell_type": "code",
      "metadata": {
        "id": "lfyYs4WCxvRf"
      },
      "source": [
        "df_1=df.groupby(['rest_type','name']).agg('count')\n",
        "df_1"
      ],
      "execution_count": null,
      "outputs": []
    },
    {
      "cell_type": "code",
      "metadata": {
        "id": "kShxamgfxvRf"
      },
      "source": [
        "df_1.sort_values(['url'],ascending=False)"
      ],
      "execution_count": null,
      "outputs": []
    },
    {
      "cell_type": "code",
      "metadata": {
        "id": "du0MuNa9xvRg"
      },
      "source": [
        "df_1.sort_values(['url'],ascending=False).groupby(['rest_type'],as_index=False).apply(lambda x : x.sort_values(by=\"url\",ascending=False))"
      ],
      "execution_count": null,
      "outputs": []
    },
    {
      "cell_type": "code",
      "metadata": {
        "id": "Ddn0rl6dxvRg"
      },
      "source": [
        "df_1.sort_values(['url'],ascending=False).groupby(['rest_type'],as_index=False).apply(lambda x : x.sort_values(by=\"url\",ascending=False))['url']"
      ],
      "execution_count": null,
      "outputs": []
    },
    {
      "cell_type": "code",
      "metadata": {
        "id": "AdDhDnuWxvRg"
      },
      "source": [
        "df_1.sort_values(['url'],ascending=False).groupby(['rest_type'],as_index=False).apply(lambda x : x.sort_values(by=\"url\",ascending=False))['url'].reset_index()"
      ],
      "execution_count": null,
      "outputs": []
    },
    {
      "cell_type": "code",
      "metadata": {
        "id": "L-gKROTExvRg"
      },
      "source": [
        "dataset=df_1.sort_values(['url'],ascending=False).groupby(['rest_type'],\n",
        "                as_index=False).apply(lambda x : x.sort_values(by=\"url\",ascending=False))['url'].reset_index().rename(columns={'url':'count'})"
      ],
      "execution_count": null,
      "outputs": []
    },
    {
      "cell_type": "code",
      "metadata": {
        "id": "kazk77wjxvRh"
      },
      "source": [
        "dataset"
      ],
      "execution_count": null,
      "outputs": []
    },
    {
      "cell_type": "markdown",
      "metadata": {
        "id": "pnvSzW0gxvRh"
      },
      "source": [
        "##### Which are the most popular casual dining restaurant chains?"
      ]
    },
    {
      "cell_type": "code",
      "metadata": {
        "id": "GMK7_AwvxvRh"
      },
      "source": [
        "casual=dataset[dataset['rest_type']=='Casual Dining']\n",
        "casual"
      ],
      "execution_count": null,
      "outputs": []
    },
    {
      "cell_type": "code",
      "metadata": {
        "id": "qvRAlmktxvRi"
      },
      "source": [
        "df.shape"
      ],
      "execution_count": null,
      "outputs": []
    },
    {
      "cell_type": "markdown",
      "metadata": {
        "id": "r1ofOanvxvRi"
      },
      "source": [
        "We can see tht Empire restaurant,Beijing bites and Mani's dum biriyani are the most popular casual dining restaurant chains in Bangalore.\n",
        "We will inspect them further..."
      ]
    },
    {
      "cell_type": "markdown",
      "metadata": {
        "id": "l0Al6-qJxvRi"
      },
      "source": [
        "##### Where are their outlets located?"
      ]
    },
    {
      "cell_type": "code",
      "metadata": {
        "id": "wUc7y5hXxvRi"
      },
      "source": [
        ""
      ],
      "execution_count": null,
      "outputs": []
    },
    {
      "cell_type": "code",
      "metadata": {
        "id": "hRbzp6laxvRi"
      },
      "source": [
        ""
      ],
      "execution_count": null,
      "outputs": []
    },
    {
      "cell_type": "markdown",
      "metadata": {
        "id": "LDhGL2hExvRi"
      },
      "source": [
        "#### Wordcloud of dishes liked by cuisines."
      ]
    },
    {
      "cell_type": "code",
      "metadata": {
        "id": "c6UI4FdOxvRj"
      },
      "source": [
        "!pip install wordcloud"
      ],
      "execution_count": null,
      "outputs": []
    },
    {
      "cell_type": "code",
      "metadata": {
        "id": "daW53vdDxvRj"
      },
      "source": [
        "from wordcloud import WordCloud"
      ],
      "execution_count": null,
      "outputs": []
    },
    {
      "cell_type": "code",
      "metadata": {
        "id": "NA_YL-unxvRj"
      },
      "source": [
        "df.head()"
      ],
      "execution_count": null,
      "outputs": []
    },
    {
      "cell_type": "code",
      "metadata": {
        "id": "A9rbPMKpxvRj"
      },
      "source": [
        "df['update_dish_liked']=df['dish_liked'].apply(lambda x : x.split(',') if type(x)==str else [''])"
      ],
      "execution_count": null,
      "outputs": []
    },
    {
      "cell_type": "code",
      "metadata": {
        "id": "QCgXpTUExvRk"
      },
      "source": [
        "df.head()"
      ],
      "execution_count": null,
      "outputs": []
    },
    {
      "cell_type": "code",
      "metadata": {
        "id": "OzsFNyTqxvRk"
      },
      "source": [
        "df['rest_type'].value_counts()[:9].index"
      ],
      "execution_count": null,
      "outputs": []
    },
    {
      "cell_type": "code",
      "metadata": {
        "id": "oZHdiUf-xvRk"
      },
      "source": [
        "rest=df['rest_type'].value_counts()[:9].index"
      ],
      "execution_count": null,
      "outputs": []
    },
    {
      "cell_type": "markdown",
      "metadata": {
        "id": "stPs3Nb6xvRk"
      },
      "source": [
        "##### create wordcloud for each and every restaurant"
      ]
    },
    {
      "cell_type": "code",
      "metadata": {
        "id": "yJVU7jPmxvRl"
      },
      "source": [
        "from wordcloud import WordCloud, STOPWORDS "
      ],
      "execution_count": null,
      "outputs": []
    },
    {
      "cell_type": "code",
      "metadata": {
        "id": "_CMeChEAxvRl"
      },
      "source": [
        "df.isna().sum()"
      ],
      "execution_count": null,
      "outputs": []
    },
    {
      "cell_type": "code",
      "metadata": {
        "id": "y6IQEdHMxvRl"
      },
      "source": [
        "df.dropna(axis='index',subset=['rest_type'],inplace=True)"
      ],
      "execution_count": null,
      "outputs": []
    },
    {
      "cell_type": "code",
      "metadata": {
        "id": "C8ONhJevxvRl"
      },
      "source": [
        "df.dropna(axis='index',subset=['dish_liked'],inplace=True)"
      ],
      "execution_count": null,
      "outputs": []
    },
    {
      "cell_type": "code",
      "metadata": {
        "id": "r6F-JNFyxvRl"
      },
      "source": [
        "df.isna().sum()"
      ],
      "execution_count": null,
      "outputs": []
    },
    {
      "cell_type": "markdown",
      "metadata": {
        "id": "xh_LeC4NxvRm"
      },
      "source": [
        "##### wordcloud for 1 restaurant"
      ]
    },
    {
      "cell_type": "code",
      "metadata": {
        "id": "5riOyjSyxvRm"
      },
      "source": [
        "data=df[df['rest_type']=='Quick Bites']"
      ],
      "execution_count": null,
      "outputs": []
    },
    {
      "cell_type": "code",
      "metadata": {
        "id": "pqHH5TC8xvRm"
      },
      "source": [
        "data['dish_liked']"
      ],
      "execution_count": null,
      "outputs": []
    },
    {
      "cell_type": "code",
      "metadata": {
        "id": "8O-NCffuxvRm"
      },
      "source": [
        "stopwords=set(STOPWORDS)"
      ],
      "execution_count": null,
      "outputs": []
    },
    {
      "cell_type": "code",
      "metadata": {
        "id": "i10yp-69xvRn"
      },
      "source": [
        "dishes=''\n",
        "for word in data['dish_liked']:\n",
        "    words=word.split()\n",
        "    # Converts each token into lowercase \n",
        "    for i in range(len(words)): \n",
        "        words[i] = words[i].lower() \n",
        "    dishes=dishes+ \" \".join(words)+\" \"\n",
        "wordcloud = WordCloud(max_font_size=None, background_color='white', collocations=False,stopwords = stopwords,width=1500, height=1500).generate(dishes)\n",
        "plt.imshow(wordcloud)\n",
        "plt.axis(\"off\")"
      ],
      "execution_count": null,
      "outputs": []
    },
    {
      "cell_type": "code",
      "metadata": {
        "id": "NCwx2FP9xvRn"
      },
      "source": [
        ""
      ],
      "execution_count": null,
      "outputs": []
    },
    {
      "cell_type": "code",
      "metadata": {
        "id": "FHpp9qiJxvRn"
      },
      "source": [
        "def produce_wordcloud(rest):\n",
        "    \n",
        "    plt.figure(figsize=(20,30))\n",
        "    for i,restaurant in enumerate(rest):\n",
        "        plt.subplot(3,3,i+1)\n",
        "        dishes=''\n",
        "        data=df[df['rest_type']==restaurant]\n",
        "        for word in data['dish_liked']:\n",
        "            words=word.split()\n",
        "            # Converts each token into lowercase \n",
        "            for i in range(len(words)): \n",
        "                words[i] = words[i].lower() \n",
        "            dishes=dishes+ \" \".join(words)+\" \"\n",
        "        wordcloud = WordCloud(max_font_size=None, background_color='white', collocations=False,stopwords = stopwords,width=1500, height=1500).generate(dishes)\n",
        "        plt.imshow(wordcloud)\n",
        "        plt.title(restaurant)\n",
        "        plt.axis(\"off\")"
      ],
      "execution_count": null,
      "outputs": []
    },
    {
      "cell_type": "code",
      "metadata": {
        "id": "3edWwyOsxvRn"
      },
      "source": [
        "stopwords = set(STOPWORDS) \n",
        "produce_wordcloud(rest)"
      ],
      "execution_count": null,
      "outputs": []
    },
    {
      "cell_type": "code",
      "metadata": {
        "id": "KHcFk9KGxvRo"
      },
      "source": [
        ""
      ],
      "execution_count": null,
      "outputs": []
    },
    {
      "cell_type": "markdown",
      "metadata": {
        "id": "KtZ_oSDQxvRo"
      },
      "source": [
        "##### analysing Reviews of Particular Restaurant"
      ]
    },
    {
      "cell_type": "code",
      "metadata": {
        "id": "CCeRL4OXxvRo"
      },
      "source": [
        "df.head()"
      ],
      "execution_count": null,
      "outputs": []
    },
    {
      "cell_type": "code",
      "metadata": {
        "id": "OEiCXCkBxvRo"
      },
      "source": [
        "df['reviews_list'][0]"
      ],
      "execution_count": null,
      "outputs": []
    },
    {
      "cell_type": "code",
      "metadata": {
        "id": "wZGerIpqxvRp"
      },
      "source": [
        "data=df['reviews_list'][0].lower()\n",
        "data"
      ],
      "execution_count": null,
      "outputs": []
    },
    {
      "cell_type": "code",
      "metadata": {
        "id": "Gv6yR5xmxvRp"
      },
      "source": [
        "import re\n",
        "data2=re.sub('[^a-zA-Z]', ' ',data)\n",
        "data2"
      ],
      "execution_count": null,
      "outputs": []
    },
    {
      "cell_type": "code",
      "metadata": {
        "id": "OyJIE8OUxvRp"
      },
      "source": [
        "data3=re.sub('rated', ' ',data2)\n",
        "data3"
      ],
      "execution_count": null,
      "outputs": []
    },
    {
      "cell_type": "code",
      "metadata": {
        "id": "xwr8z08GxvRq"
      },
      "source": [
        "data4=re.sub('x',' ',data3)\n",
        "data4"
      ],
      "execution_count": null,
      "outputs": []
    },
    {
      "cell_type": "markdown",
      "metadata": {
        "id": "ep_WrjFoxvRq"
      },
      "source": [
        "##### remove multiple spaces"
      ]
    },
    {
      "cell_type": "code",
      "metadata": {
        "id": "6ClsVFs6xvRq"
      },
      "source": [
        "re.sub(' +',' ',data4)"
      ],
      "execution_count": null,
      "outputs": []
    },
    {
      "cell_type": "markdown",
      "metadata": {
        "id": "34zTdDCvxvRr"
      },
      "source": [
        "#### analyse review of a particular restaurant"
      ]
    },
    {
      "cell_type": "code",
      "metadata": {
        "id": "kle1--QlxvRr"
      },
      "source": [
        "dataset=df[df['rest_type']=='Quick Bites']"
      ],
      "execution_count": null,
      "outputs": []
    },
    {
      "cell_type": "code",
      "metadata": {
        "id": "Rzjd-EqjxvRr"
      },
      "source": [
        "type(dataset['reviews_list'][3])"
      ],
      "execution_count": null,
      "outputs": []
    },
    {
      "cell_type": "code",
      "metadata": {
        "id": "Oh_MEudtxvRr"
      },
      "source": [
        "total_review=' '\n",
        "for review in dataset['reviews_list']:\n",
        "    review=review.lower()\n",
        "    review=re.sub('[^a-zA-Z]', ' ',review)\n",
        "    review=re.sub('rated', ' ',review)\n",
        "    review=re.sub('x',' ',review)\n",
        "    review=re.sub(' +',' ',review)\n",
        "    total_review=total_review + str(review)\n",
        " "
      ],
      "execution_count": null,
      "outputs": []
    },
    {
      "cell_type": "code",
      "metadata": {
        "id": "ylDIXNefxvRs"
      },
      "source": [
        "wordcloud = WordCloud(width = 800, height = 800, \n",
        "                background_color ='white', \n",
        "                stopwords = stopwords, \n",
        "                min_font_size = 10).generate(total_review) \n",
        "# plot the WordCloud image                        \n",
        "plt.figure(figsize = (8, 8)) \n",
        "plt.imshow(wordcloud) \n",
        "plt.axis(\"off\") "
      ],
      "execution_count": null,
      "outputs": []
    },
    {
      "cell_type": "code",
      "metadata": {
        "id": "lBuzxoNrxvRs"
      },
      "source": [
        "def importance(restaurant):\n",
        "    dataset=df[df['rest_type']==restaurant]\n",
        "    total_review=' '\n",
        "    for review in dataset['reviews_list']:\n",
        "        review=review.lower()\n",
        "        review=re.sub('[^a-zA-Z]', ' ',review)\n",
        "        review=re.sub('rated', ' ',review)\n",
        "        review=re.sub('x',' ',review)\n",
        "        review=re.sub(' +',' ',review)\n",
        "        total_review=total_review + str(review)\n",
        "    wordcloud = WordCloud(width = 800, height = 800, \n",
        "            background_color ='white', \n",
        "            stopwords = set(STOPWORDS), \n",
        "            min_font_size = 10).generate(total_review) \n",
        "    # plot the WordCloud image                        \n",
        "    plt.figure(figsize = (8, 8)) \n",
        "    plt.imshow(wordcloud) \n",
        "    plt.axis(\"off\") "
      ],
      "execution_count": null,
      "outputs": []
    },
    {
      "cell_type": "code",
      "metadata": {
        "id": "3Xz-F3iDxvRs"
      },
      "source": [
        "importance('Quick Bites')"
      ],
      "execution_count": null,
      "outputs": []
    },
    {
      "cell_type": "code",
      "metadata": {
        "id": "njVDiWcNxvRu"
      },
      "source": [
        ""
      ],
      "execution_count": null,
      "outputs": []
    },
    {
      "cell_type": "code",
      "metadata": {
        "id": "puE-Jl9nxvRu"
      },
      "source": [
        ""
      ],
      "execution_count": null,
      "outputs": []
    }
  ]
}