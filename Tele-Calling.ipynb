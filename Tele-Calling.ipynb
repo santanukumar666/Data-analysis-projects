{
 "cells": [
  {
   "cell_type": "code",
   "execution_count": 1,
   "id": "b04212bc",
   "metadata": {},
   "outputs": [],
   "source": [
    "import numpy as np \n",
    "import pandas as pd \n",
    "import matplotlib.pyplot as plt\n",
    "import seaborn as sns "
   ]
  },
  {
   "cell_type": "markdown",
   "id": "50bc2614",
   "metadata": {},
   "source": [
    "### Loading the given necessary datasets"
   ]
  },
  {
   "cell_type": "code",
   "execution_count": 2,
   "id": "02b5ea09",
   "metadata": {},
   "outputs": [
    {
     "data": {
      "text/html": [
       "<div>\n",
       "<style scoped>\n",
       "    .dataframe tbody tr th:only-of-type {\n",
       "        vertical-align: middle;\n",
       "    }\n",
       "\n",
       "    .dataframe tbody tr th {\n",
       "        vertical-align: top;\n",
       "    }\n",
       "\n",
       "    .dataframe thead th {\n",
       "        text-align: right;\n",
       "    }\n",
       "</style>\n",
       "<table border=\"1\" class=\"dataframe\">\n",
       "  <thead>\n",
       "    <tr style=\"text-align: right;\">\n",
       "      <th></th>\n",
       "      <th>id</th>\n",
       "      <th>userId</th>\n",
       "      <th>name</th>\n",
       "      <th>phoneNumber</th>\n",
       "      <th>city</th>\n",
       "      <th>state</th>\n",
       "      <th>source</th>\n",
       "      <th>isExternal</th>\n",
       "      <th>createdAt</th>\n",
       "      <th>receivedAt</th>\n",
       "    </tr>\n",
       "  </thead>\n",
       "  <tbody>\n",
       "    <tr>\n",
       "      <th>0</th>\n",
       "      <td>00021a29-83e4-48d3-8cc3-0bc729f087fd</td>\n",
       "      <td>NaN</td>\n",
       "      <td>KUPENDRA</td>\n",
       "      <td>1234567890</td>\n",
       "      <td>NaN</td>\n",
       "      <td>NaN</td>\n",
       "      <td>Airavatha data</td>\n",
       "      <td>True</td>\n",
       "      <td>2019-12-26T18:17:13.115Z</td>\n",
       "      <td>2019-11-01T05:41:00Z</td>\n",
       "    </tr>\n",
       "    <tr>\n",
       "      <th>1</th>\n",
       "      <td>000743a8-3bd5-4e5a-97ed-dcf0af91aeb7</td>\n",
       "      <td>e50fccfe-82aa-434a-ad92-9d3f9d651f84</td>\n",
       "      <td>Dinkle Unknown</td>\n",
       "      <td>1234567890</td>\n",
       "      <td>Delhi/NCR</td>\n",
       "      <td>Delhi-NCR</td>\n",
       "      <td>delhi-18-33yo-10-15k-hdat-july-17</td>\n",
       "      <td>False</td>\n",
       "      <td>2019-12-26T17:49:53.471Z</td>\n",
       "      <td>2019-08-25T00:00:00Z</td>\n",
       "    </tr>\n",
       "    <tr>\n",
       "      <th>2</th>\n",
       "      <td>0013dc91-e0e3-48f6-9518-6cf8389dd923</td>\n",
       "      <td>NaN</td>\n",
       "      <td>Elikatte Kumaraswamy</td>\n",
       "      <td>1234567890</td>\n",
       "      <td>Hyderabad</td>\n",
       "      <td>Telangana</td>\n",
       "      <td>WhatsApp OptIn Form</td>\n",
       "      <td>False</td>\n",
       "      <td>2019-12-26T17:21:04.021Z</td>\n",
       "      <td>2019-07-25T00:00:00Z</td>\n",
       "    </tr>\n",
       "    <tr>\n",
       "      <th>3</th>\n",
       "      <td>001477a2-80d0-4b6d-a392-16aeaeef805d</td>\n",
       "      <td>4e0222f0-42aa-4660-976b-8e9329b4b1a7</td>\n",
       "      <td>Raju Unknown</td>\n",
       "      <td>1234567890</td>\n",
       "      <td>Hyderabad</td>\n",
       "      <td>Telangana</td>\n",
       "      <td>Referrals</td>\n",
       "      <td>False</td>\n",
       "      <td>2019-12-26T17:26:31.459Z</td>\n",
       "      <td>2019-06-03T00:00:00Z</td>\n",
       "    </tr>\n",
       "    <tr>\n",
       "      <th>4</th>\n",
       "      <td>0014961d-9b66-4cae-85aa-acb89cd51f1e</td>\n",
       "      <td>NaN</td>\n",
       "      <td>Arunkumar Unknown</td>\n",
       "      <td>1234567890</td>\n",
       "      <td>Bangalore</td>\n",
       "      <td>Karnataka</td>\n",
       "      <td>Reused Leads</td>\n",
       "      <td>False</td>\n",
       "      <td>2019-12-26T17:21:05.065Z</td>\n",
       "      <td>2019-04-01T00:00:00Z</td>\n",
       "    </tr>\n",
       "  </tbody>\n",
       "</table>\n",
       "</div>"
      ],
      "text/plain": [
       "                                     id                                userId  \\\n",
       "0  00021a29-83e4-48d3-8cc3-0bc729f087fd                                   NaN   \n",
       "1  000743a8-3bd5-4e5a-97ed-dcf0af91aeb7  e50fccfe-82aa-434a-ad92-9d3f9d651f84   \n",
       "2  0013dc91-e0e3-48f6-9518-6cf8389dd923                                   NaN   \n",
       "3  001477a2-80d0-4b6d-a392-16aeaeef805d  4e0222f0-42aa-4660-976b-8e9329b4b1a7   \n",
       "4  0014961d-9b66-4cae-85aa-acb89cd51f1e                                   NaN   \n",
       "\n",
       "                   name  phoneNumber       city      state  \\\n",
       "0              KUPENDRA   1234567890        NaN        NaN   \n",
       "1        Dinkle Unknown   1234567890  Delhi/NCR  Delhi-NCR   \n",
       "2  Elikatte Kumaraswamy   1234567890  Hyderabad  Telangana   \n",
       "3          Raju Unknown   1234567890  Hyderabad  Telangana   \n",
       "4     Arunkumar Unknown   1234567890  Bangalore  Karnataka   \n",
       "\n",
       "                              source  isExternal                 createdAt  \\\n",
       "0                     Airavatha data        True  2019-12-26T18:17:13.115Z   \n",
       "1  delhi-18-33yo-10-15k-hdat-july-17       False  2019-12-26T17:49:53.471Z   \n",
       "2                WhatsApp OptIn Form       False  2019-12-26T17:21:04.021Z   \n",
       "3                          Referrals       False  2019-12-26T17:26:31.459Z   \n",
       "4                       Reused Leads       False  2019-12-26T17:21:05.065Z   \n",
       "\n",
       "             receivedAt  \n",
       "0  2019-11-01T05:41:00Z  \n",
       "1  2019-08-25T00:00:00Z  \n",
       "2  2019-07-25T00:00:00Z  \n",
       "3  2019-06-03T00:00:00Z  \n",
       "4  2019-04-01T00:00:00Z  "
      ]
     },
     "execution_count": 2,
     "metadata": {},
     "output_type": "execute_result"
    }
   ],
   "source": [
    "leads = pd.read_csv(r\"C:\\Users\\subra\\OneDrive\\Desktop\\leads.csv\",encoding = 'unicode_escape')\n",
    "leads.head()"
   ]
  },
  {
   "cell_type": "code",
   "execution_count": 3,
   "id": "c21f0e5a",
   "metadata": {},
   "outputs": [
    {
     "data": {
      "text/html": [
       "<div>\n",
       "<style scoped>\n",
       "    .dataframe tbody tr th:only-of-type {\n",
       "        vertical-align: middle;\n",
       "    }\n",
       "\n",
       "    .dataframe tbody tr th {\n",
       "        vertical-align: top;\n",
       "    }\n",
       "\n",
       "    .dataframe thead th {\n",
       "        text-align: right;\n",
       "    }\n",
       "</style>\n",
       "<table border=\"1\" class=\"dataframe\">\n",
       "  <thead>\n",
       "    <tr style=\"text-align: right;\">\n",
       "      <th></th>\n",
       "      <th>id</th>\n",
       "      <th>telecallerId</th>\n",
       "      <th>leadId</th>\n",
       "      <th>client</th>\n",
       "      <th>status</th>\n",
       "      <th>comments</th>\n",
       "      <th>calledAt</th>\n",
       "      <th>createdAt</th>\n",
       "    </tr>\n",
       "  </thead>\n",
       "  <tbody>\n",
       "    <tr>\n",
       "      <th>0</th>\n",
       "      <td>00028a99-c401-4048-9b75-b923cff55a79</td>\n",
       "      <td>fd904600-1e6e-4ab2-8be9-d7903aed9d3d</td>\n",
       "      <td>724467a5-52d1-4989-a870-99ae65d3e0e8</td>\n",
       "      <td>Amazon Flex</td>\n",
       "      <td>Not Interested - Applied by Mistake</td>\n",
       "      <td>NaN</td>\n",
       "      <td>2019-07-25T17:00:00Z</td>\n",
       "      <td>2019-12-26T17:32:49.297Z</td>\n",
       "    </tr>\n",
       "    <tr>\n",
       "      <th>1</th>\n",
       "      <td>00033b17-3a2a-4769-8623-bb00adf1e4c5</td>\n",
       "      <td>4248b521-ce3f-4897-a30d-35c9ee81f746</td>\n",
       "      <td>65d4429f-cb34-436d-9020-1fd6f364367f</td>\n",
       "      <td>KFC</td>\n",
       "      <td>RNR</td>\n",
       "      <td>NaN</td>\n",
       "      <td>2019-10-10T17:30:00Z</td>\n",
       "      <td>2019-12-26T18:09:38.408Z</td>\n",
       "    </tr>\n",
       "    <tr>\n",
       "      <th>2</th>\n",
       "      <td>0003dcc7-05d0-4736-a415-5e67ea95c24e</td>\n",
       "      <td>fd904600-1e6e-4ab2-8be9-d7903aed9d3d</td>\n",
       "      <td>fea7fb85-3355-4747-98fd-dae1b9aca52a</td>\n",
       "      <td>Lalamove</td>\n",
       "      <td>Not Interested - Disconnected the Call</td>\n",
       "      <td>NaN</td>\n",
       "      <td>2019-08-30T14:00:00Z</td>\n",
       "      <td>2019-12-26T17:42:55.007Z</td>\n",
       "    </tr>\n",
       "    <tr>\n",
       "      <th>3</th>\n",
       "      <td>00042f93-1e19-418f-bf38-1a8a8f758952</td>\n",
       "      <td>fd904600-1e6e-4ab2-8be9-d7903aed9d3d</td>\n",
       "      <td>3308d114-a9ed-4d81-8d08-50b28171790f</td>\n",
       "      <td>Zomato</td>\n",
       "      <td>Not Interested</td>\n",
       "      <td>Not Looking for Job</td>\n",
       "      <td>2020-06-01T10:30:00Z</td>\n",
       "      <td>2019-12-26T17:26:36.333Z</td>\n",
       "    </tr>\n",
       "    <tr>\n",
       "      <th>4</th>\n",
       "      <td>0006f07e-f4d1-4387-8540-fc8bf6e67676</td>\n",
       "      <td>fd904600-1e6e-4ab2-8be9-d7903aed9d3d</td>\n",
       "      <td>924cdffb-693f-4870-8179-d80571e1fc85</td>\n",
       "      <td>NaN</td>\n",
       "      <td>Not Applied</td>\n",
       "      <td>NaN</td>\n",
       "      <td>2020-04-01T10:30:00Z</td>\n",
       "      <td>2019-12-26T17:21:12.255Z</td>\n",
       "    </tr>\n",
       "  </tbody>\n",
       "</table>\n",
       "</div>"
      ],
      "text/plain": [
       "                                     id                          telecallerId  \\\n",
       "0  00028a99-c401-4048-9b75-b923cff55a79  fd904600-1e6e-4ab2-8be9-d7903aed9d3d   \n",
       "1  00033b17-3a2a-4769-8623-bb00adf1e4c5  4248b521-ce3f-4897-a30d-35c9ee81f746   \n",
       "2  0003dcc7-05d0-4736-a415-5e67ea95c24e  fd904600-1e6e-4ab2-8be9-d7903aed9d3d   \n",
       "3  00042f93-1e19-418f-bf38-1a8a8f758952  fd904600-1e6e-4ab2-8be9-d7903aed9d3d   \n",
       "4  0006f07e-f4d1-4387-8540-fc8bf6e67676  fd904600-1e6e-4ab2-8be9-d7903aed9d3d   \n",
       "\n",
       "                                 leadId       client  \\\n",
       "0  724467a5-52d1-4989-a870-99ae65d3e0e8  Amazon Flex   \n",
       "1  65d4429f-cb34-436d-9020-1fd6f364367f          KFC   \n",
       "2  fea7fb85-3355-4747-98fd-dae1b9aca52a     Lalamove   \n",
       "3  3308d114-a9ed-4d81-8d08-50b28171790f       Zomato   \n",
       "4  924cdffb-693f-4870-8179-d80571e1fc85          NaN   \n",
       "\n",
       "                                   status             comments  \\\n",
       "0     Not Interested - Applied by Mistake                  NaN   \n",
       "1                                     RNR                  NaN   \n",
       "2  Not Interested - Disconnected the Call                  NaN   \n",
       "3                          Not Interested  Not Looking for Job   \n",
       "4                             Not Applied                  NaN   \n",
       "\n",
       "               calledAt                 createdAt  \n",
       "0  2019-07-25T17:00:00Z  2019-12-26T17:32:49.297Z  \n",
       "1  2019-10-10T17:30:00Z  2019-12-26T18:09:38.408Z  \n",
       "2  2019-08-30T14:00:00Z  2019-12-26T17:42:55.007Z  \n",
       "3  2020-06-01T10:30:00Z  2019-12-26T17:26:36.333Z  \n",
       "4  2020-04-01T10:30:00Z  2019-12-26T17:21:12.255Z  "
      ]
     },
     "execution_count": 3,
     "metadata": {},
     "output_type": "execute_result"
    }
   ],
   "source": [
    "lead_calls = pd.read_csv(r\"C:\\Users\\subra\\OneDrive\\Desktop\\lead_calls.csv\")\n",
    "lead_calls.head()"
   ]
  },
  {
   "cell_type": "code",
   "execution_count": 4,
   "id": "ea4d6fdc",
   "metadata": {},
   "outputs": [
    {
     "data": {
      "text/html": [
       "<div>\n",
       "<style scoped>\n",
       "    .dataframe tbody tr th:only-of-type {\n",
       "        vertical-align: middle;\n",
       "    }\n",
       "\n",
       "    .dataframe tbody tr th {\n",
       "        vertical-align: top;\n",
       "    }\n",
       "\n",
       "    .dataframe thead th {\n",
       "        text-align: right;\n",
       "    }\n",
       "</style>\n",
       "<table border=\"1\" class=\"dataframe\">\n",
       "  <thead>\n",
       "    <tr style=\"text-align: right;\">\n",
       "      <th></th>\n",
       "      <th>id</th>\n",
       "      <th>name</th>\n",
       "      <th>phoneNumber</th>\n",
       "      <th>createdAt</th>\n",
       "    </tr>\n",
       "  </thead>\n",
       "  <tbody>\n",
       "    <tr>\n",
       "      <th>0</th>\n",
       "      <td>4248b521-ce3f-4897-a30d-35c9ee81f746</td>\n",
       "      <td>Amila</td>\n",
       "      <td>1234567890</td>\n",
       "      <td>2019-12-25T05:50:26.375Z</td>\n",
       "    </tr>\n",
       "    <tr>\n",
       "      <th>1</th>\n",
       "      <td>fd904600-1e6e-4ab2-8be9-d7903aed9d3d</td>\n",
       "      <td>Sheeba</td>\n",
       "      <td>1234567890</td>\n",
       "      <td>2019-12-25T05:50:26.385Z</td>\n",
       "    </tr>\n",
       "    <tr>\n",
       "      <th>2</th>\n",
       "      <td>7717ef5d-38ec-44df-af3b-7a2446071e48</td>\n",
       "      <td>Islam</td>\n",
       "      <td>1234567890</td>\n",
       "      <td>2019-12-25T05:50:26.388Z</td>\n",
       "    </tr>\n",
       "    <tr>\n",
       "      <th>3</th>\n",
       "      <td>89b29324-8f3b-4b50-b3f7-0a3e0918e4d2</td>\n",
       "      <td>Rakshith</td>\n",
       "      <td>1234567890</td>\n",
       "      <td>2019-12-25T05:50:26.390Z</td>\n",
       "    </tr>\n",
       "    <tr>\n",
       "      <th>4</th>\n",
       "      <td>87112942-9c14-401a-9231-d9b4c2eee0c5</td>\n",
       "      <td>Manasa</td>\n",
       "      <td>1234567890</td>\n",
       "      <td>2019-12-25T05:50:26.393Z</td>\n",
       "    </tr>\n",
       "  </tbody>\n",
       "</table>\n",
       "</div>"
      ],
      "text/plain": [
       "                                     id      name  phoneNumber  \\\n",
       "0  4248b521-ce3f-4897-a30d-35c9ee81f746     Amila   1234567890   \n",
       "1  fd904600-1e6e-4ab2-8be9-d7903aed9d3d    Sheeba   1234567890   \n",
       "2  7717ef5d-38ec-44df-af3b-7a2446071e48     Islam   1234567890   \n",
       "3  89b29324-8f3b-4b50-b3f7-0a3e0918e4d2  Rakshith   1234567890   \n",
       "4  87112942-9c14-401a-9231-d9b4c2eee0c5    Manasa   1234567890   \n",
       "\n",
       "                  createdAt  \n",
       "0  2019-12-25T05:50:26.375Z  \n",
       "1  2019-12-25T05:50:26.385Z  \n",
       "2  2019-12-25T05:50:26.388Z  \n",
       "3  2019-12-25T05:50:26.390Z  \n",
       "4  2019-12-25T05:50:26.393Z  "
      ]
     },
     "execution_count": 4,
     "metadata": {},
     "output_type": "execute_result"
    }
   ],
   "source": [
    "telecallers = pd.read_csv(r\"C:\\Users\\subra\\OneDrive\\Desktop\\telecallers.csv\")\n",
    "telecallers .head()"
   ]
  },
  {
   "cell_type": "code",
   "execution_count": 5,
   "id": "953d9705",
   "metadata": {},
   "outputs": [
    {
     "data": {
      "text/plain": [
       "5977"
      ]
     },
     "execution_count": 5,
     "metadata": {},
     "output_type": "execute_result"
    }
   ],
   "source": [
    "leads['userId'].nunique()"
   ]
  },
  {
   "cell_type": "markdown",
   "id": "44ddda6c",
   "metadata": {},
   "source": [
    "Leads 'id', 'userID','name' and 'Phonenumber' are all either not important and unique to this dataset only.\n",
    "\n",
    "So we can drop them before proceeding further."
   ]
  },
  {
   "cell_type": "code",
   "execution_count": 6,
   "id": "5d9d018b",
   "metadata": {},
   "outputs": [
    {
     "data": {
      "text/html": [
       "<div>\n",
       "<style scoped>\n",
       "    .dataframe tbody tr th:only-of-type {\n",
       "        vertical-align: middle;\n",
       "    }\n",
       "\n",
       "    .dataframe tbody tr th {\n",
       "        vertical-align: top;\n",
       "    }\n",
       "\n",
       "    .dataframe thead th {\n",
       "        text-align: right;\n",
       "    }\n",
       "</style>\n",
       "<table border=\"1\" class=\"dataframe\">\n",
       "  <thead>\n",
       "    <tr style=\"text-align: right;\">\n",
       "      <th></th>\n",
       "      <th>city</th>\n",
       "      <th>state</th>\n",
       "      <th>source</th>\n",
       "      <th>isExternal</th>\n",
       "      <th>createdAt</th>\n",
       "      <th>receivedAt</th>\n",
       "    </tr>\n",
       "  </thead>\n",
       "  <tbody>\n",
       "    <tr>\n",
       "      <th>0</th>\n",
       "      <td>NaN</td>\n",
       "      <td>NaN</td>\n",
       "      <td>Airavatha data</td>\n",
       "      <td>True</td>\n",
       "      <td>2019-12-26T18:17:13.115Z</td>\n",
       "      <td>2019-11-01T05:41:00Z</td>\n",
       "    </tr>\n",
       "    <tr>\n",
       "      <th>1</th>\n",
       "      <td>Delhi/NCR</td>\n",
       "      <td>Delhi-NCR</td>\n",
       "      <td>delhi-18-33yo-10-15k-hdat-july-17</td>\n",
       "      <td>False</td>\n",
       "      <td>2019-12-26T17:49:53.471Z</td>\n",
       "      <td>2019-08-25T00:00:00Z</td>\n",
       "    </tr>\n",
       "    <tr>\n",
       "      <th>2</th>\n",
       "      <td>Hyderabad</td>\n",
       "      <td>Telangana</td>\n",
       "      <td>WhatsApp OptIn Form</td>\n",
       "      <td>False</td>\n",
       "      <td>2019-12-26T17:21:04.021Z</td>\n",
       "      <td>2019-07-25T00:00:00Z</td>\n",
       "    </tr>\n",
       "    <tr>\n",
       "      <th>3</th>\n",
       "      <td>Hyderabad</td>\n",
       "      <td>Telangana</td>\n",
       "      <td>Referrals</td>\n",
       "      <td>False</td>\n",
       "      <td>2019-12-26T17:26:31.459Z</td>\n",
       "      <td>2019-06-03T00:00:00Z</td>\n",
       "    </tr>\n",
       "    <tr>\n",
       "      <th>4</th>\n",
       "      <td>Bangalore</td>\n",
       "      <td>Karnataka</td>\n",
       "      <td>Reused Leads</td>\n",
       "      <td>False</td>\n",
       "      <td>2019-12-26T17:21:05.065Z</td>\n",
       "      <td>2019-04-01T00:00:00Z</td>\n",
       "    </tr>\n",
       "    <tr>\n",
       "      <th>...</th>\n",
       "      <td>...</td>\n",
       "      <td>...</td>\n",
       "      <td>...</td>\n",
       "      <td>...</td>\n",
       "      <td>...</td>\n",
       "      <td>...</td>\n",
       "    </tr>\n",
       "    <tr>\n",
       "      <th>9911</th>\n",
       "      <td>Chennai</td>\n",
       "      <td>Tamil Nadu</td>\n",
       "      <td>Quikr_Zomato_Chennai</td>\n",
       "      <td>False</td>\n",
       "      <td>2019-12-26T18:09:36.081Z</td>\n",
       "      <td>2019-10-15T18:14:00Z</td>\n",
       "    </tr>\n",
       "    <tr>\n",
       "      <th>9912</th>\n",
       "      <td>Chennai</td>\n",
       "      <td>Tamil Nadu</td>\n",
       "      <td>Referrals</td>\n",
       "      <td>False</td>\n",
       "      <td>2019-12-26T17:26:33.135Z</td>\n",
       "      <td>2019-06-09T00:00:00Z</td>\n",
       "    </tr>\n",
       "    <tr>\n",
       "      <th>9913</th>\n",
       "      <td>Hyderabad</td>\n",
       "      <td>Telangana</td>\n",
       "      <td>API</td>\n",
       "      <td>False</td>\n",
       "      <td>2019-12-26T17:22:16.350Z</td>\n",
       "      <td>2019-07-25T00:00:00Z</td>\n",
       "    </tr>\n",
       "    <tr>\n",
       "      <th>9914</th>\n",
       "      <td>Hyderabad</td>\n",
       "      <td>Telangana</td>\n",
       "      <td>Web Chat Referrals</td>\n",
       "      <td>False</td>\n",
       "      <td>2019-12-26T17:22:16.394Z</td>\n",
       "      <td>2019-05-01T00:00:00Z</td>\n",
       "    </tr>\n",
       "    <tr>\n",
       "      <th>9915</th>\n",
       "      <td>Bangalore</td>\n",
       "      <td>Karnataka</td>\n",
       "      <td>Referrals</td>\n",
       "      <td>False</td>\n",
       "      <td>2019-12-26T17:26:32.823Z</td>\n",
       "      <td>2019-06-09T00:00:00Z</td>\n",
       "    </tr>\n",
       "  </tbody>\n",
       "</table>\n",
       "<p>9916 rows × 6 columns</p>\n",
       "</div>"
      ],
      "text/plain": [
       "           city       state                             source  isExternal  \\\n",
       "0           NaN         NaN                     Airavatha data        True   \n",
       "1     Delhi/NCR   Delhi-NCR  delhi-18-33yo-10-15k-hdat-july-17       False   \n",
       "2     Hyderabad   Telangana                WhatsApp OptIn Form       False   \n",
       "3     Hyderabad   Telangana                          Referrals       False   \n",
       "4     Bangalore   Karnataka                       Reused Leads       False   \n",
       "...         ...         ...                                ...         ...   \n",
       "9911    Chennai  Tamil Nadu               Quikr_Zomato_Chennai       False   \n",
       "9912    Chennai  Tamil Nadu                          Referrals       False   \n",
       "9913  Hyderabad   Telangana                                API       False   \n",
       "9914  Hyderabad   Telangana                 Web Chat Referrals       False   \n",
       "9915  Bangalore   Karnataka                          Referrals       False   \n",
       "\n",
       "                     createdAt            receivedAt  \n",
       "0     2019-12-26T18:17:13.115Z  2019-11-01T05:41:00Z  \n",
       "1     2019-12-26T17:49:53.471Z  2019-08-25T00:00:00Z  \n",
       "2     2019-12-26T17:21:04.021Z  2019-07-25T00:00:00Z  \n",
       "3     2019-12-26T17:26:31.459Z  2019-06-03T00:00:00Z  \n",
       "4     2019-12-26T17:21:05.065Z  2019-04-01T00:00:00Z  \n",
       "...                        ...                   ...  \n",
       "9911  2019-12-26T18:09:36.081Z  2019-10-15T18:14:00Z  \n",
       "9912  2019-12-26T17:26:33.135Z  2019-06-09T00:00:00Z  \n",
       "9913  2019-12-26T17:22:16.350Z  2019-07-25T00:00:00Z  \n",
       "9914  2019-12-26T17:22:16.394Z  2019-05-01T00:00:00Z  \n",
       "9915  2019-12-26T17:26:32.823Z  2019-06-09T00:00:00Z  \n",
       "\n",
       "[9916 rows x 6 columns]"
      ]
     },
     "execution_count": 6,
     "metadata": {},
     "output_type": "execute_result"
    }
   ],
   "source": [
    "leads1 = leads.drop(['id', 'userId', 'name', 'phoneNumber'], axis=1)\n",
    "leads1"
   ]
  },
  {
   "cell_type": "markdown",
   "id": "bbe05636",
   "metadata": {},
   "source": [
    "### Managing data types and handling missing values"
   ]
  },
  {
   "cell_type": "code",
   "execution_count": 7,
   "id": "68ade7da",
   "metadata": {},
   "outputs": [
    {
     "data": {
      "text/plain": [
       "city          object\n",
       "state         object\n",
       "source        object\n",
       "isExternal      bool\n",
       "createdAt     object\n",
       "receivedAt    object\n",
       "dtype: object"
      ]
     },
     "execution_count": 7,
     "metadata": {},
     "output_type": "execute_result"
    }
   ],
   "source": [
    "leads1.dtypes"
   ]
  },
  {
   "cell_type": "markdown",
   "id": "9d3f2770",
   "metadata": {},
   "source": [
    "converting createdAt and receivedAt feature to datetime datatype,boolean isExternal into 0 and 1 integer datatype"
   ]
  },
  {
   "cell_type": "code",
   "execution_count": 8,
   "id": "b8c41fd3",
   "metadata": {
    "scrolled": true
   },
   "outputs": [
    {
     "data": {
      "text/plain": [
       "city                       object\n",
       "state                      object\n",
       "source                     object\n",
       "isExternal                  int32\n",
       "createdAt     datetime64[ns, UTC]\n",
       "receivedAt    datetime64[ns, UTC]\n",
       "dtype: object"
      ]
     },
     "execution_count": 8,
     "metadata": {},
     "output_type": "execute_result"
    }
   ],
   "source": [
    "leads1['createdAt'] = pd.to_datetime(leads1['createdAt'])\n",
    "leads1['receivedAt'] = pd.to_datetime(leads1['receivedAt'])\n",
    "leads1.isExternal = leads1.isExternal.astype(int)\n",
    "leads1.dtypes"
   ]
  },
  {
   "cell_type": "markdown",
   "id": "aabc894c",
   "metadata": {},
   "source": [
    "Analysis of performance in cities"
   ]
  },
  {
   "cell_type": "code",
   "execution_count": 9,
   "id": "81395eb4",
   "metadata": {},
   "outputs": [
    {
     "data": {
      "text/plain": [
       "738"
      ]
     },
     "execution_count": 9,
     "metadata": {},
     "output_type": "execute_result"
    }
   ],
   "source": [
    "leads1['city'].isnull().sum() "
   ]
  },
  {
   "cell_type": "markdown",
   "id": "cc24e7c5",
   "metadata": {},
   "source": [
    "There are 738 null values in city.This should be minimized"
   ]
  },
  {
   "cell_type": "code",
   "execution_count": 10,
   "id": "3b6e9845",
   "metadata": {},
   "outputs": [
    {
     "data": {
      "text/plain": [
       "61"
      ]
     },
     "execution_count": 10,
     "metadata": {},
     "output_type": "execute_result"
    }
   ],
   "source": [
    "leads1['city'].nunique() "
   ]
  },
  {
   "cell_type": "code",
   "execution_count": 11,
   "id": "6d78afb7",
   "metadata": {},
   "outputs": [
    {
     "data": {
      "text/plain": [
       "Hyderabad      3413\n",
       "Bangalore      2273\n",
       "Chennai        1282\n",
       "Delhi/NCR       894\n",
       "Mumbai          536\n",
       "Delhi           353\n",
       "Mysore          173\n",
       "Pondicherry      21\n",
       "Patna            21\n",
       "Kerala           20\n",
       "Name: city, dtype: int64"
      ]
     },
     "execution_count": 11,
     "metadata": {},
     "output_type": "execute_result"
    }
   ],
   "source": [
    "leads1['city'].value_counts().head(10)"
   ]
  },
  {
   "cell_type": "markdown",
   "id": "4a9ffe89",
   "metadata": {},
   "source": [
    "This program is doing well in Hyderabad, Bangalore, Chennai, Delhi/NCR, Mumbai, Delhi, Mysore"
   ]
  },
  {
   "cell_type": "code",
   "execution_count": 12,
   "id": "d2fe92c8",
   "metadata": {},
   "outputs": [
    {
     "data": {
      "text/plain": [
       "<AxesSubplot:>"
      ]
     },
     "execution_count": 12,
     "metadata": {},
     "output_type": "execute_result"
    },
    {
     "data": {
      "image/png": "[encoded data removed]",
      "text/plain": [
       "<Figure size 432x288 with 1 Axes>"
      ]
     },
     "metadata": {
      "needs_background": "light"
     },
     "output_type": "display_data"
    }
   ],
   "source": [
    "leads1['city'].value_counts().head(10).plot(kind='barh')"
   ]
  },
  {
   "cell_type": "markdown",
   "id": "8c30701c",
   "metadata": {},
   "source": [
    "Analysis of performance in states"
   ]
  },
  {
   "cell_type": "code",
   "execution_count": 13,
   "id": "9347d80e",
   "metadata": {},
   "outputs": [
    {
     "data": {
      "text/plain": [
       "1380"
      ]
     },
     "execution_count": 13,
     "metadata": {},
     "output_type": "execute_result"
    }
   ],
   "source": [
    "leads1['state'].isnull().sum()"
   ]
  },
  {
   "cell_type": "markdown",
   "id": "2f542bec",
   "metadata": {},
   "source": [
    "Again there are 1380 null values in state.This should be minimized"
   ]
  },
  {
   "cell_type": "code",
   "execution_count": 14,
   "id": "7752a1c4",
   "metadata": {},
   "outputs": [
    {
     "data": {
      "text/plain": [
       "20"
      ]
     },
     "execution_count": 14,
     "metadata": {},
     "output_type": "execute_result"
    }
   ],
   "source": [
    "leads1['state'].nunique()"
   ]
  },
  {
   "cell_type": "code",
   "execution_count": 15,
   "id": "53582c88",
   "metadata": {},
   "outputs": [
    {
     "data": {
      "text/plain": [
       "Telangana         3426\n",
       "Karnataka         1990\n",
       "Tamil Nadu        1243\n",
       "Delhi             1200\n",
       "Maharashtra        541\n",
       "Delhi-NCR           52\n",
       "Andhra Pradesh      26\n",
       "Bihar               23\n",
       "West Bengal          7\n",
       "Assam                6\n",
       "Name: state, dtype: int64"
      ]
     },
     "execution_count": 15,
     "metadata": {},
     "output_type": "execute_result"
    }
   ],
   "source": [
    "leads1['state'].value_counts().head(10)"
   ]
  },
  {
   "cell_type": "markdown",
   "id": "c7032999",
   "metadata": {},
   "source": [
    "This program is doing great in Telangana, Karnataka, Tamilnadu, Delhi, Maharashtra and Delhi-NCR"
   ]
  },
  {
   "cell_type": "code",
   "execution_count": 16,
   "id": "a526d7ff",
   "metadata": {},
   "outputs": [
    {
     "data": {
      "text/plain": [
       "<AxesSubplot:>"
      ]
     },
     "execution_count": 16,
     "metadata": {},
     "output_type": "execute_result"
    },
    {
     "data": {
      "image/png": "[encoded data removed]",
      "text/plain": [
       "<Figure size 432x288 with 1 Axes>"
      ]
     },
     "metadata": {
      "needs_background": "light"
     },
     "output_type": "display_data"
    }
   ],
   "source": [
    "leads1['state'].value_counts().head(10).plot(kind='barh')"
   ]
  },
  {
   "cell_type": "markdown",
   "id": "4c70764e",
   "metadata": {},
   "source": [
    "Analysis of the sources"
   ]
  },
  {
   "cell_type": "code",
   "execution_count": 17,
   "id": "eba08230",
   "metadata": {},
   "outputs": [
    {
     "data": {
      "text/plain": [
       "108"
      ]
     },
     "execution_count": 17,
     "metadata": {},
     "output_type": "execute_result"
    }
   ],
   "source": [
    "leads1['source'].nunique()"
   ]
  },
  {
   "cell_type": "code",
   "execution_count": 18,
   "id": "6c24b543",
   "metadata": {
    "scrolled": true
   },
   "outputs": [
    {
     "data": {
      "text/plain": [
       "Referrals                          3656\n",
       "API                                1233\n",
       "WhatsApp OptIn Form                1138\n",
       "Facebook                            654\n",
       "unknown                             369\n",
       "Airavatha data                      319\n",
       "delhi-lal-july-30-1mil-b3           245\n",
       "Reused Leads                        231\n",
       "Web Chat Referrals                  177\n",
       "delhi-lal-july-29-1mil-b2           175\n",
       "delhi-lal-july-31-1mil-b4           154\n",
       "Sandeep                             101\n",
       "delhi-lal-july-26-1mil-rep           91\n",
       "Ubereats Existing list               79\n",
       "delhi-lal-july-26-1mil               78\n",
       "CorpW                                65\n",
       "lynk-mas-qkr-oct3                    54\n",
       "atl-reeng-sms                        50\n",
       "blr-nrby-aug-2                       49\n",
       "Delivery_lynk_che_tam_08 Nov 19      45\n",
       "Name: source, dtype: int64"
      ]
     },
     "execution_count": 18,
     "metadata": {},
     "output_type": "execute_result"
    }
   ],
   "source": [
    "leads1['source'].value_counts().head(20)"
   ]
  },
  {
   "cell_type": "markdown",
   "id": "218cc9ba",
   "metadata": {},
   "source": [
    "Referrals, API, WhatsApp OptIn Form, Facebook,Airavatha data and reused leads are the main sources of leads"
   ]
  },
  {
   "cell_type": "code",
   "execution_count": 19,
   "id": "797a2b03",
   "metadata": {
    "scrolled": true
   },
   "outputs": [
    {
     "data": {
      "text/plain": [
       "<AxesSubplot:ylabel='source'>"
      ]
     },
     "execution_count": 19,
     "metadata": {},
     "output_type": "execute_result"
    },
    {
     "data": {
      "image/png": "[encoded data removed]",
      "text/plain": [
       "<Figure size 432x288 with 1 Axes>"
      ]
     },
     "metadata": {},
     "output_type": "display_data"
    }
   ],
   "source": [
    "leads1['source'].value_counts().head(10).plot(kind='pie')"
   ]
  },
  {
   "cell_type": "markdown",
   "id": "390e240e",
   "metadata": {},
   "source": [
    "Analysis of Duration between when lead was received by us and the time of the creation of the table entry"
   ]
  },
  {
   "cell_type": "code",
   "execution_count": 20,
   "id": "b06e9b8b",
   "metadata": {},
   "outputs": [
    {
     "name": "stdout",
     "output_type": "stream",
     "text": [
      "162.6668011294877\n",
      "317\n",
      "27\n"
     ]
    },
    {
     "data": {
      "text/html": [
       "<div>\n",
       "<style scoped>\n",
       "    .dataframe tbody tr th:only-of-type {\n",
       "        vertical-align: middle;\n",
       "    }\n",
       "\n",
       "    .dataframe tbody tr th {\n",
       "        vertical-align: top;\n",
       "    }\n",
       "\n",
       "    .dataframe thead th {\n",
       "        text-align: right;\n",
       "    }\n",
       "</style>\n",
       "<table border=\"1\" class=\"dataframe\">\n",
       "  <thead>\n",
       "    <tr style=\"text-align: right;\">\n",
       "      <th></th>\n",
       "      <th>city</th>\n",
       "      <th>state</th>\n",
       "      <th>source</th>\n",
       "      <th>isExternal</th>\n",
       "      <th>createdAt</th>\n",
       "      <th>receivedAt</th>\n",
       "      <th>duration</th>\n",
       "    </tr>\n",
       "  </thead>\n",
       "  <tbody>\n",
       "    <tr>\n",
       "      <th>0</th>\n",
       "      <td>NaN</td>\n",
       "      <td>NaN</td>\n",
       "      <td>Airavatha data</td>\n",
       "      <td>1</td>\n",
       "      <td>2019-12-26 18:17:13.115000+00:00</td>\n",
       "      <td>2019-11-01 05:41:00+00:00</td>\n",
       "      <td>55</td>\n",
       "    </tr>\n",
       "    <tr>\n",
       "      <th>1</th>\n",
       "      <td>Delhi/NCR</td>\n",
       "      <td>Delhi-NCR</td>\n",
       "      <td>delhi-18-33yo-10-15k-hdat-july-17</td>\n",
       "      <td>0</td>\n",
       "      <td>2019-12-26 17:49:53.471000+00:00</td>\n",
       "      <td>2019-08-25 00:00:00+00:00</td>\n",
       "      <td>123</td>\n",
       "    </tr>\n",
       "    <tr>\n",
       "      <th>2</th>\n",
       "      <td>Hyderabad</td>\n",
       "      <td>Telangana</td>\n",
       "      <td>WhatsApp OptIn Form</td>\n",
       "      <td>0</td>\n",
       "      <td>2019-12-26 17:21:04.021000+00:00</td>\n",
       "      <td>2019-07-25 00:00:00+00:00</td>\n",
       "      <td>154</td>\n",
       "    </tr>\n",
       "    <tr>\n",
       "      <th>3</th>\n",
       "      <td>Hyderabad</td>\n",
       "      <td>Telangana</td>\n",
       "      <td>Referrals</td>\n",
       "      <td>0</td>\n",
       "      <td>2019-12-26 17:26:31.459000+00:00</td>\n",
       "      <td>2019-06-03 00:00:00+00:00</td>\n",
       "      <td>206</td>\n",
       "    </tr>\n",
       "    <tr>\n",
       "      <th>4</th>\n",
       "      <td>Bangalore</td>\n",
       "      <td>Karnataka</td>\n",
       "      <td>Reused Leads</td>\n",
       "      <td>0</td>\n",
       "      <td>2019-12-26 17:21:05.065000+00:00</td>\n",
       "      <td>2019-04-01 00:00:00+00:00</td>\n",
       "      <td>269</td>\n",
       "    </tr>\n",
       "    <tr>\n",
       "      <th>...</th>\n",
       "      <td>...</td>\n",
       "      <td>...</td>\n",
       "      <td>...</td>\n",
       "      <td>...</td>\n",
       "      <td>...</td>\n",
       "      <td>...</td>\n",
       "      <td>...</td>\n",
       "    </tr>\n",
       "    <tr>\n",
       "      <th>9911</th>\n",
       "      <td>Chennai</td>\n",
       "      <td>Tamil Nadu</td>\n",
       "      <td>Quikr_Zomato_Chennai</td>\n",
       "      <td>0</td>\n",
       "      <td>2019-12-26 18:09:36.081000+00:00</td>\n",
       "      <td>2019-10-15 18:14:00+00:00</td>\n",
       "      <td>71</td>\n",
       "    </tr>\n",
       "    <tr>\n",
       "      <th>9912</th>\n",
       "      <td>Chennai</td>\n",
       "      <td>Tamil Nadu</td>\n",
       "      <td>Referrals</td>\n",
       "      <td>0</td>\n",
       "      <td>2019-12-26 17:26:33.135000+00:00</td>\n",
       "      <td>2019-06-09 00:00:00+00:00</td>\n",
       "      <td>200</td>\n",
       "    </tr>\n",
       "    <tr>\n",
       "      <th>9913</th>\n",
       "      <td>Hyderabad</td>\n",
       "      <td>Telangana</td>\n",
       "      <td>API</td>\n",
       "      <td>0</td>\n",
       "      <td>2019-12-26 17:22:16.350000+00:00</td>\n",
       "      <td>2019-07-25 00:00:00+00:00</td>\n",
       "      <td>154</td>\n",
       "    </tr>\n",
       "    <tr>\n",
       "      <th>9914</th>\n",
       "      <td>Hyderabad</td>\n",
       "      <td>Telangana</td>\n",
       "      <td>Web Chat Referrals</td>\n",
       "      <td>0</td>\n",
       "      <td>2019-12-26 17:22:16.394000+00:00</td>\n",
       "      <td>2019-05-01 00:00:00+00:00</td>\n",
       "      <td>239</td>\n",
       "    </tr>\n",
       "    <tr>\n",
       "      <th>9915</th>\n",
       "      <td>Bangalore</td>\n",
       "      <td>Karnataka</td>\n",
       "      <td>Referrals</td>\n",
       "      <td>0</td>\n",
       "      <td>2019-12-26 17:26:32.823000+00:00</td>\n",
       "      <td>2019-06-09 00:00:00+00:00</td>\n",
       "      <td>200</td>\n",
       "    </tr>\n",
       "  </tbody>\n",
       "</table>\n",
       "<p>9916 rows × 7 columns</p>\n",
       "</div>"
      ],
      "text/plain": [
       "           city       state                             source  isExternal  \\\n",
       "0           NaN         NaN                     Airavatha data           1   \n",
       "1     Delhi/NCR   Delhi-NCR  delhi-18-33yo-10-15k-hdat-july-17           0   \n",
       "2     Hyderabad   Telangana                WhatsApp OptIn Form           0   \n",
       "3     Hyderabad   Telangana                          Referrals           0   \n",
       "4     Bangalore   Karnataka                       Reused Leads           0   \n",
       "...         ...         ...                                ...         ...   \n",
       "9911    Chennai  Tamil Nadu               Quikr_Zomato_Chennai           0   \n",
       "9912    Chennai  Tamil Nadu                          Referrals           0   \n",
       "9913  Hyderabad   Telangana                                API           0   \n",
       "9914  Hyderabad   Telangana                 Web Chat Referrals           0   \n",
       "9915  Bangalore   Karnataka                          Referrals           0   \n",
       "\n",
       "                            createdAt                receivedAt  duration  \n",
       "0    2019-12-26 18:17:13.115000+00:00 2019-11-01 05:41:00+00:00        55  \n",
       "1    2019-12-26 17:49:53.471000+00:00 2019-08-25 00:00:00+00:00       123  \n",
       "2    2019-12-26 17:21:04.021000+00:00 2019-07-25 00:00:00+00:00       154  \n",
       "3    2019-12-26 17:26:31.459000+00:00 2019-06-03 00:00:00+00:00       206  \n",
       "4    2019-12-26 17:21:05.065000+00:00 2019-04-01 00:00:00+00:00       269  \n",
       "...                               ...                       ...       ...  \n",
       "9911 2019-12-26 18:09:36.081000+00:00 2019-10-15 18:14:00+00:00        71  \n",
       "9912 2019-12-26 17:26:33.135000+00:00 2019-06-09 00:00:00+00:00       200  \n",
       "9913 2019-12-26 17:22:16.350000+00:00 2019-07-25 00:00:00+00:00       154  \n",
       "9914 2019-12-26 17:22:16.394000+00:00 2019-05-01 00:00:00+00:00       239  \n",
       "9915 2019-12-26 17:26:32.823000+00:00 2019-06-09 00:00:00+00:00       200  \n",
       "\n",
       "[9916 rows x 7 columns]"
      ]
     },
     "execution_count": 20,
     "metadata": {},
     "output_type": "execute_result"
    }
   ],
   "source": [
    "leads1['duration'] = pd.to_timedelta(leads1['createdAt'] - leads1['receivedAt'])\n",
    "leads1['duration'] = leads1['duration'].dt.days\n",
    "print(leads1['duration'].mean())\n",
    "print(leads1['duration'].max())\n",
    "print(leads1['duration'].min())\n",
    "leads1"
   ]
  },
  {
   "cell_type": "markdown",
   "id": "abd14f8c",
   "metadata": {},
   "source": [
    "Time duration required to create an entry of leads and time when we receive the leads.\n",
    "\n",
    "Maximum is 317 days\n",
    "\n",
    "Minimum is 27 days\n",
    "\n",
    "Average is 163 days\n",
    "\n",
    "We need to minimize this duration for the fast and efficient processing of data.\n"
   ]
  },
  {
   "cell_type": "code",
   "execution_count": 21,
   "id": "0caa75a6",
   "metadata": {},
   "outputs": [],
   "source": [
    "leads1.drop(['duration'], axis=1, inplace=True)\n",
    "leads2 = leads1.copy()"
   ]
  },
  {
   "cell_type": "code",
   "execution_count": 22,
   "id": "75699982",
   "metadata": {},
   "outputs": [
    {
     "data": {
      "text/plain": [
       "26    9916\n",
       "Name: createdAt_day, dtype: int64"
      ]
     },
     "execution_count": 22,
     "metadata": {},
     "output_type": "execute_result"
    }
   ],
   "source": [
    "leads2['createdAt_day'] = leads2['createdAt'].dt.day\n",
    "leads2['createdAt_day'].value_counts()"
   ]
  },
  {
   "cell_type": "code",
   "execution_count": 23,
   "id": "9e23fcd5",
   "metadata": {},
   "outputs": [
    {
     "data": {
      "text/plain": [
       "17    7696\n",
       "18    2220\n",
       "Name: createdAt_hour, dtype: int64"
      ]
     },
     "execution_count": 23,
     "metadata": {},
     "output_type": "execute_result"
    }
   ],
   "source": [
    "leads2['createdAt_hour'] = leads2['createdAt'].dt.hour\n",
    "leads2['createdAt_hour'].value_counts()"
   ]
  },
  {
   "cell_type": "markdown",
   "id": "6cfc90d3",
   "metadata": {},
   "source": [
    "All these entries were created on 26 Dec 2019 between 17:00 to 19:00"
   ]
  },
  {
   "cell_type": "code",
   "execution_count": 24,
   "id": "f0c8aabc",
   "metadata": {},
   "outputs": [
    {
     "data": {
      "text/plain": [
       "2019-07-25    2283\n",
       "2019-05-01    1548\n",
       "2019-04-01     627\n",
       "2019-11-01     582\n",
       "2019-08-01     371\n",
       "2019-07-30     283\n",
       "2019-06-09     269\n",
       "2019-06-08     250\n",
       "2019-08-02     231\n",
       "2019-11-03     201\n",
       "Name: receivedAt_date, dtype: int64"
      ]
     },
     "execution_count": 24,
     "metadata": {},
     "output_type": "execute_result"
    }
   ],
   "source": [
    "leads2['receivedAt_date'] = leads2['receivedAt'].dt.date\n",
    "leads2['receivedAt_date'].value_counts().head(10)"
   ]
  },
  {
   "cell_type": "code",
   "execution_count": 25,
   "id": "5b373564",
   "metadata": {},
   "outputs": [
    {
     "name": "stdout",
     "output_type": "stream",
     "text": [
      "2019-02-12\n",
      "2019-11-29\n"
     ]
    }
   ],
   "source": [
    "print(leads2['receivedAt_date'].min())\n",
    "print(leads2['receivedAt_date'].max())"
   ]
  },
  {
   "cell_type": "markdown",
   "id": "141947f4",
   "metadata": {},
   "source": [
    "This program recieved the leads between the dates 12 feb 2019 to 29 Nov 2019"
   ]
  },
  {
   "cell_type": "code",
   "execution_count": 26,
   "id": "bead09c4",
   "metadata": {},
   "outputs": [
    {
     "data": {
      "text/plain": [
       "0    86.415894\n",
       "1    13.584106\n",
       "Name: isExternal, dtype: float64"
      ]
     },
     "execution_count": 26,
     "metadata": {},
     "output_type": "execute_result"
    }
   ],
   "source": [
    "leads1['isExternal'].value_counts(normalize=True)*100"
   ]
  },
  {
   "cell_type": "markdown",
   "id": "97a03c9a",
   "metadata": {},
   "source": [
    "This program recieves 13.5% of the leads from external services.\n",
    "\n",
    "One should try to minimize this dependency on external services.\n"
   ]
  },
  {
   "cell_type": "code",
   "execution_count": 27,
   "id": "bebe49a9",
   "metadata": {},
   "outputs": [],
   "source": [
    "leadsE = leads1[['city', 'isExternal', 'source']].groupby(['city','isExternal']).count()\n",
    "leadsE = leadsE.reset_index()\n",
    "leadsE = leadsE.pivot(index='city', columns='isExternal', values='source')\n",
    "leadsE = leadsE.rename_axis(None, axis=1)\n",
    "\n",
    "leadsE = leadsE.reset_index()\n",
    "leadsE.columns=['city', 'JobAssist', 'External']"
   ]
  },
  {
   "cell_type": "code",
   "execution_count": 28,
   "id": "4250ce72",
   "metadata": {},
   "outputs": [
    {
     "data": {
      "text/html": [
       "<div>\n",
       "<style scoped>\n",
       "    .dataframe tbody tr th:only-of-type {\n",
       "        vertical-align: middle;\n",
       "    }\n",
       "\n",
       "    .dataframe tbody tr th {\n",
       "        vertical-align: top;\n",
       "    }\n",
       "\n",
       "    .dataframe thead th {\n",
       "        text-align: right;\n",
       "    }\n",
       "</style>\n",
       "<table border=\"1\" class=\"dataframe\">\n",
       "  <thead>\n",
       "    <tr style=\"text-align: right;\">\n",
       "      <th></th>\n",
       "      <th>city</th>\n",
       "      <th>JobAssist</th>\n",
       "      <th>External</th>\n",
       "    </tr>\n",
       "  </thead>\n",
       "  <tbody>\n",
       "    <tr>\n",
       "      <th>0</th>\n",
       "      <td>Ahmedabad</td>\n",
       "      <td>1.0</td>\n",
       "      <td>6.0</td>\n",
       "    </tr>\n",
       "    <tr>\n",
       "      <th>1</th>\n",
       "      <td>Aligarh</td>\n",
       "      <td>3.0</td>\n",
       "      <td>1.0</td>\n",
       "    </tr>\n",
       "    <tr>\n",
       "      <th>2</th>\n",
       "      <td>Anantapur</td>\n",
       "      <td>3.0</td>\n",
       "      <td>1.0</td>\n",
       "    </tr>\n",
       "    <tr>\n",
       "      <th>3</th>\n",
       "      <td>Asansol</td>\n",
       "      <td>1.0</td>\n",
       "      <td>NaN</td>\n",
       "    </tr>\n",
       "    <tr>\n",
       "      <th>4</th>\n",
       "      <td>Bangalore</td>\n",
       "      <td>1678.0</td>\n",
       "      <td>593.0</td>\n",
       "    </tr>\n",
       "    <tr>\n",
       "      <th>...</th>\n",
       "      <td>...</td>\n",
       "      <td>...</td>\n",
       "      <td>...</td>\n",
       "    </tr>\n",
       "    <tr>\n",
       "      <th>56</th>\n",
       "      <td>Vizianagaram</td>\n",
       "      <td>1.0</td>\n",
       "      <td>NaN</td>\n",
       "    </tr>\n",
       "    <tr>\n",
       "      <th>57</th>\n",
       "      <td>Warangal</td>\n",
       "      <td>10.0</td>\n",
       "      <td>2.0</td>\n",
       "    </tr>\n",
       "    <tr>\n",
       "      <th>58</th>\n",
       "      <td>Yadhgirir</td>\n",
       "      <td>NaN</td>\n",
       "      <td>10.0</td>\n",
       "    </tr>\n",
       "    <tr>\n",
       "      <th>59</th>\n",
       "      <td>muzaffarpur</td>\n",
       "      <td>2.0</td>\n",
       "      <td>NaN</td>\n",
       "    </tr>\n",
       "    <tr>\n",
       "      <th>60</th>\n",
       "      <td>your city</td>\n",
       "      <td>3.0</td>\n",
       "      <td>NaN</td>\n",
       "    </tr>\n",
       "  </tbody>\n",
       "</table>\n",
       "<p>61 rows × 3 columns</p>\n",
       "</div>"
      ],
      "text/plain": [
       "            city  JobAssist  External\n",
       "0      Ahmedabad        1.0       6.0\n",
       "1        Aligarh        3.0       1.0\n",
       "2      Anantapur        3.0       1.0\n",
       "3        Asansol        1.0       NaN\n",
       "4      Bangalore     1678.0     593.0\n",
       "..           ...        ...       ...\n",
       "56  Vizianagaram        1.0       NaN\n",
       "57      Warangal       10.0       2.0\n",
       "58     Yadhgirir        NaN      10.0\n",
       "59   muzaffarpur        2.0       NaN\n",
       "60     your city        3.0       NaN\n",
       "\n",
       "[61 rows x 3 columns]"
      ]
     },
     "execution_count": 28,
     "metadata": {},
     "output_type": "execute_result"
    }
   ],
   "source": [
    "leadsE"
   ]
  },
  {
   "cell_type": "markdown",
   "id": "51fa8b3b",
   "metadata": {},
   "source": [
    "Analysing data where leads are recieved from states and cities."
   ]
  },
  {
   "cell_type": "code",
   "execution_count": 29,
   "id": "f0a297d9",
   "metadata": {},
   "outputs": [
    {
     "data": {
      "text/html": [
       "<div>\n",
       "<style scoped>\n",
       "    .dataframe tbody tr th:only-of-type {\n",
       "        vertical-align: middle;\n",
       "    }\n",
       "\n",
       "    .dataframe tbody tr th {\n",
       "        vertical-align: top;\n",
       "    }\n",
       "\n",
       "    .dataframe thead th {\n",
       "        text-align: right;\n",
       "    }\n",
       "</style>\n",
       "<table border=\"1\" class=\"dataframe\">\n",
       "  <thead>\n",
       "    <tr style=\"text-align: right;\">\n",
       "      <th></th>\n",
       "      <th>index</th>\n",
       "      <th>city</th>\n",
       "      <th>JobAssist</th>\n",
       "      <th>External</th>\n",
       "    </tr>\n",
       "  </thead>\n",
       "  <tbody>\n",
       "    <tr>\n",
       "      <th>0</th>\n",
       "      <td>20</td>\n",
       "      <td>Hyderabad</td>\n",
       "      <td>3374.0</td>\n",
       "      <td>39.0</td>\n",
       "    </tr>\n",
       "    <tr>\n",
       "      <th>1</th>\n",
       "      <td>4</td>\n",
       "      <td>Bangalore</td>\n",
       "      <td>1678.0</td>\n",
       "      <td>593.0</td>\n",
       "    </tr>\n",
       "    <tr>\n",
       "      <th>2</th>\n",
       "      <td>11</td>\n",
       "      <td>Chennai</td>\n",
       "      <td>1219.0</td>\n",
       "      <td>63.0</td>\n",
       "    </tr>\n",
       "    <tr>\n",
       "      <th>3</th>\n",
       "      <td>16</td>\n",
       "      <td>Delhi/NCR</td>\n",
       "      <td>891.0</td>\n",
       "      <td>3.0</td>\n",
       "    </tr>\n",
       "    <tr>\n",
       "      <th>4</th>\n",
       "      <td>37</td>\n",
       "      <td>Mumbai</td>\n",
       "      <td>536.0</td>\n",
       "      <td>NaN</td>\n",
       "    </tr>\n",
       "    <tr>\n",
       "      <th>5</th>\n",
       "      <td>15</td>\n",
       "      <td>Delhi</td>\n",
       "      <td>352.0</td>\n",
       "      <td>1.0</td>\n",
       "    </tr>\n",
       "    <tr>\n",
       "      <th>6</th>\n",
       "      <td>42</td>\n",
       "      <td>Patna</td>\n",
       "      <td>21.0</td>\n",
       "      <td>NaN</td>\n",
       "    </tr>\n",
       "    <tr>\n",
       "      <th>7</th>\n",
       "      <td>13</td>\n",
       "      <td>Coimbatore</td>\n",
       "      <td>16.0</td>\n",
       "      <td>4.0</td>\n",
       "    </tr>\n",
       "    <tr>\n",
       "      <th>8</th>\n",
       "      <td>57</td>\n",
       "      <td>Warangal</td>\n",
       "      <td>10.0</td>\n",
       "      <td>2.0</td>\n",
       "    </tr>\n",
       "    <tr>\n",
       "      <th>9</th>\n",
       "      <td>26</td>\n",
       "      <td>Karimnagar</td>\n",
       "      <td>9.0</td>\n",
       "      <td>NaN</td>\n",
       "    </tr>\n",
       "  </tbody>\n",
       "</table>\n",
       "</div>"
      ],
      "text/plain": [
       "   index        city  JobAssist  External\n",
       "0     20   Hyderabad     3374.0      39.0\n",
       "1      4   Bangalore     1678.0     593.0\n",
       "2     11     Chennai     1219.0      63.0\n",
       "3     16   Delhi/NCR      891.0       3.0\n",
       "4     37      Mumbai      536.0       NaN\n",
       "5     15       Delhi      352.0       1.0\n",
       "6     42       Patna       21.0       NaN\n",
       "7     13  Coimbatore       16.0       4.0\n",
       "8     57    Warangal       10.0       2.0\n",
       "9     26  Karimnagar        9.0       NaN"
      ]
     },
     "execution_count": 29,
     "metadata": {},
     "output_type": "execute_result"
    }
   ],
   "source": [
    "leadsE1 = leadsE.sort_values(by=['JobAssist'], ascending=False)\n",
    "leadsE1.reset_index(inplace=True)\n",
    "leadsE1.head(10)"
   ]
  },
  {
   "cell_type": "markdown",
   "id": "794a8eb3",
   "metadata": {},
   "source": [
    "Hyderabad, Bengalore, Chennai, Delhi/NCR, Mumbai and Delhi are the cities where this program is doing good.\n",
    "\n",
    "Should try to improve the response in other cities also using Job assist."
   ]
  },
  {
   "cell_type": "code",
   "execution_count": 30,
   "id": "ba7cdd9c",
   "metadata": {},
   "outputs": [
    {
     "data": {
      "text/plain": [
       "<AxesSubplot:xlabel='city', ylabel='JobAssist'>"
      ]
     },
     "execution_count": 30,
     "metadata": {},
     "output_type": "execute_result"
    },
    {
     "data": {
      "image/png": "[encoded data removed]",
      "text/plain": [
       "<Figure size 432x288 with 1 Axes>"
      ]
     },
     "metadata": {
      "needs_background": "light"
     },
     "output_type": "display_data"
    }
   ],
   "source": [
    "sns.barplot(x=\"city\", y=\"JobAssist\", data=leadsE1.head(5))"
   ]
  },
  {
   "cell_type": "code",
   "execution_count": 31,
   "id": "d006b1bd",
   "metadata": {},
   "outputs": [
    {
     "data": {
      "text/html": [
       "<div>\n",
       "<style scoped>\n",
       "    .dataframe tbody tr th:only-of-type {\n",
       "        vertical-align: middle;\n",
       "    }\n",
       "\n",
       "    .dataframe tbody tr th {\n",
       "        vertical-align: top;\n",
       "    }\n",
       "\n",
       "    .dataframe thead th {\n",
       "        text-align: right;\n",
       "    }\n",
       "</style>\n",
       "<table border=\"1\" class=\"dataframe\">\n",
       "  <thead>\n",
       "    <tr style=\"text-align: right;\">\n",
       "      <th></th>\n",
       "      <th>index</th>\n",
       "      <th>city</th>\n",
       "      <th>JobAssist</th>\n",
       "      <th>External</th>\n",
       "    </tr>\n",
       "  </thead>\n",
       "  <tbody>\n",
       "    <tr>\n",
       "      <th>0</th>\n",
       "      <td>4</td>\n",
       "      <td>Bangalore</td>\n",
       "      <td>1678.0</td>\n",
       "      <td>593.0</td>\n",
       "    </tr>\n",
       "    <tr>\n",
       "      <th>1</th>\n",
       "      <td>38</td>\n",
       "      <td>Mysore</td>\n",
       "      <td>4.0</td>\n",
       "      <td>169.0</td>\n",
       "    </tr>\n",
       "    <tr>\n",
       "      <th>2</th>\n",
       "      <td>11</td>\n",
       "      <td>Chennai</td>\n",
       "      <td>1219.0</td>\n",
       "      <td>63.0</td>\n",
       "    </tr>\n",
       "    <tr>\n",
       "      <th>3</th>\n",
       "      <td>20</td>\n",
       "      <td>Hyderabad</td>\n",
       "      <td>3374.0</td>\n",
       "      <td>39.0</td>\n",
       "    </tr>\n",
       "    <tr>\n",
       "      <th>4</th>\n",
       "      <td>43</td>\n",
       "      <td>Pondicherry</td>\n",
       "      <td>NaN</td>\n",
       "      <td>21.0</td>\n",
       "    </tr>\n",
       "    <tr>\n",
       "      <th>5</th>\n",
       "      <td>27</td>\n",
       "      <td>Kerala</td>\n",
       "      <td>NaN</td>\n",
       "      <td>20.0</td>\n",
       "    </tr>\n",
       "    <tr>\n",
       "      <th>6</th>\n",
       "      <td>7</td>\n",
       "      <td>Belagavi</td>\n",
       "      <td>NaN</td>\n",
       "      <td>12.0</td>\n",
       "    </tr>\n",
       "    <tr>\n",
       "      <th>7</th>\n",
       "      <td>58</td>\n",
       "      <td>Yadhgirir</td>\n",
       "      <td>NaN</td>\n",
       "      <td>10.0</td>\n",
       "    </tr>\n",
       "    <tr>\n",
       "      <th>8</th>\n",
       "      <td>33</td>\n",
       "      <td>Madurai</td>\n",
       "      <td>5.0</td>\n",
       "      <td>6.0</td>\n",
       "    </tr>\n",
       "    <tr>\n",
       "      <th>9</th>\n",
       "      <td>0</td>\n",
       "      <td>Ahmedabad</td>\n",
       "      <td>1.0</td>\n",
       "      <td>6.0</td>\n",
       "    </tr>\n",
       "  </tbody>\n",
       "</table>\n",
       "</div>"
      ],
      "text/plain": [
       "   index         city  JobAssist  External\n",
       "0      4    Bangalore     1678.0     593.0\n",
       "1     38       Mysore        4.0     169.0\n",
       "2     11      Chennai     1219.0      63.0\n",
       "3     20    Hyderabad     3374.0      39.0\n",
       "4     43  Pondicherry        NaN      21.0\n",
       "5     27       Kerala        NaN      20.0\n",
       "6      7     Belagavi        NaN      12.0\n",
       "7     58    Yadhgirir        NaN      10.0\n",
       "8     33      Madurai        5.0       6.0\n",
       "9      0    Ahmedabad        1.0       6.0"
      ]
     },
     "execution_count": 31,
     "metadata": {},
     "output_type": "execute_result"
    }
   ],
   "source": [
    "leadsE2 = leadsE.sort_values(by='External', ascending=False)\n",
    "leadsE2.reset_index(inplace=True)\n",
    "leadsE2.head(10)"
   ]
  },
  {
   "cell_type": "markdown",
   "id": "a06dfd06",
   "metadata": {},
   "source": [
    "Leads from Bangalore and Mysore depend mostly on external services.\n",
    "\n",
    "Should improve the Job assist program in these cities "
   ]
  },
  {
   "cell_type": "code",
   "execution_count": 32,
   "id": "2634aa47",
   "metadata": {},
   "outputs": [
    {
     "data": {
      "text/plain": [
       "<AxesSubplot:xlabel='city', ylabel='External'>"
      ]
     },
     "execution_count": 32,
     "metadata": {},
     "output_type": "execute_result"
    },
    {
     "data": {
      "image/png": "[encoded data removed]",
      "text/plain": [
       "<Figure size 432x288 with 1 Axes>"
      ]
     },
     "metadata": {
      "needs_background": "light"
     },
     "output_type": "display_data"
    }
   ],
   "source": [
    "sns.barplot(x=\"city\", y=\"External\", data=leadsE2.head(5))"
   ]
  },
  {
   "cell_type": "code",
   "execution_count": 33,
   "id": "8d8128f3",
   "metadata": {},
   "outputs": [],
   "source": [
    "leads3 = leads1[['state', 'isExternal', 'source']].groupby(['state','isExternal']).count()\n",
    "leads3 = leads3.reset_index()\n",
    "leads3 = leads3.pivot(index='state', columns='isExternal', values='source')\n",
    "leads3 = leads3.reset_index()\n",
    "leads3.columns=['state', 'JobAssist', 'External']"
   ]
  },
  {
   "cell_type": "code",
   "execution_count": 34,
   "id": "a7b5dd97",
   "metadata": {},
   "outputs": [
    {
     "data": {
      "text/html": [
       "<div>\n",
       "<style scoped>\n",
       "    .dataframe tbody tr th:only-of-type {\n",
       "        vertical-align: middle;\n",
       "    }\n",
       "\n",
       "    .dataframe tbody tr th {\n",
       "        vertical-align: top;\n",
       "    }\n",
       "\n",
       "    .dataframe thead th {\n",
       "        text-align: right;\n",
       "    }\n",
       "</style>\n",
       "<table border=\"1\" class=\"dataframe\">\n",
       "  <thead>\n",
       "    <tr style=\"text-align: right;\">\n",
       "      <th></th>\n",
       "      <th>state</th>\n",
       "      <th>JobAssist</th>\n",
       "      <th>External</th>\n",
       "    </tr>\n",
       "  </thead>\n",
       "  <tbody>\n",
       "    <tr>\n",
       "      <th>16</th>\n",
       "      <td>Telangana</td>\n",
       "      <td>3394.0</td>\n",
       "      <td>32.0</td>\n",
       "    </tr>\n",
       "    <tr>\n",
       "      <th>9</th>\n",
       "      <td>Karnataka</td>\n",
       "      <td>1662.0</td>\n",
       "      <td>326.0</td>\n",
       "    </tr>\n",
       "    <tr>\n",
       "      <th>14</th>\n",
       "      <td>Tamil Nadu</td>\n",
       "      <td>1242.0</td>\n",
       "      <td>1.0</td>\n",
       "    </tr>\n",
       "    <tr>\n",
       "      <th>6</th>\n",
       "      <td>Delhi</td>\n",
       "      <td>1196.0</td>\n",
       "      <td>4.0</td>\n",
       "    </tr>\n",
       "    <tr>\n",
       "      <th>10</th>\n",
       "      <td>Maharashtra</td>\n",
       "      <td>541.0</td>\n",
       "      <td>NaN</td>\n",
       "    </tr>\n",
       "    <tr>\n",
       "      <th>7</th>\n",
       "      <td>Delhi-NCR</td>\n",
       "      <td>52.0</td>\n",
       "      <td>NaN</td>\n",
       "    </tr>\n",
       "    <tr>\n",
       "      <th>1</th>\n",
       "      <td>Andhra Pradesh</td>\n",
       "      <td>26.0</td>\n",
       "      <td>NaN</td>\n",
       "    </tr>\n",
       "    <tr>\n",
       "      <th>4</th>\n",
       "      <td>Bihar</td>\n",
       "      <td>23.0</td>\n",
       "      <td>NaN</td>\n",
       "    </tr>\n",
       "    <tr>\n",
       "      <th>19</th>\n",
       "      <td>West Bengal</td>\n",
       "      <td>7.0</td>\n",
       "      <td>NaN</td>\n",
       "    </tr>\n",
       "    <tr>\n",
       "      <th>2</th>\n",
       "      <td>Assam</td>\n",
       "      <td>6.0</td>\n",
       "      <td>NaN</td>\n",
       "    </tr>\n",
       "  </tbody>\n",
       "</table>\n",
       "</div>"
      ],
      "text/plain": [
       "             state  JobAssist  External\n",
       "16       Telangana     3394.0      32.0\n",
       "9        Karnataka     1662.0     326.0\n",
       "14      Tamil Nadu     1242.0       1.0\n",
       "6            Delhi     1196.0       4.0\n",
       "10     Maharashtra      541.0       NaN\n",
       "7        Delhi-NCR       52.0       NaN\n",
       "1   Andhra Pradesh       26.0       NaN\n",
       "4            Bihar       23.0       NaN\n",
       "19     West Bengal        7.0       NaN\n",
       "2            Assam        6.0       NaN"
      ]
     },
     "execution_count": 34,
     "metadata": {},
     "output_type": "execute_result"
    }
   ],
   "source": [
    "leads30 = leads3.sort_values(by='JobAssist', ascending=False)\n",
    "leads30.head(10)"
   ]
  },
  {
   "cell_type": "markdown",
   "id": "256ee227",
   "metadata": {},
   "source": [
    "Telangana, Karnataka, Tamilnadu, Delhi, Maharashtraare the states where this program is doing good.\n",
    "\n",
    "Should try to improve the response in other states also using Job assist."
   ]
  },
  {
   "cell_type": "code",
   "execution_count": 35,
   "id": "5b678114",
   "metadata": {},
   "outputs": [
    {
     "data": {
      "text/plain": [
       "<AxesSubplot:xlabel='state', ylabel='JobAssist'>"
      ]
     },
     "execution_count": 35,
     "metadata": {},
     "output_type": "execute_result"
    },
    {
     "data": {
      "image/png": "[encoded data removed]",
      "text/plain": [
       "<Figure size 432x288 with 1 Axes>"
      ]
     },
     "metadata": {
      "needs_background": "light"
     },
     "output_type": "display_data"
    }
   ],
   "source": [
    "sns.barplot(x=\"state\", y=\"JobAssist\", data=leads30.head(5))"
   ]
  },
  {
   "cell_type": "code",
   "execution_count": 36,
   "id": "e3cadaa9",
   "metadata": {},
   "outputs": [
    {
     "data": {
      "text/html": [
       "<div>\n",
       "<style scoped>\n",
       "    .dataframe tbody tr th:only-of-type {\n",
       "        vertical-align: middle;\n",
       "    }\n",
       "\n",
       "    .dataframe tbody tr th {\n",
       "        vertical-align: top;\n",
       "    }\n",
       "\n",
       "    .dataframe thead th {\n",
       "        text-align: right;\n",
       "    }\n",
       "</style>\n",
       "<table border=\"1\" class=\"dataframe\">\n",
       "  <thead>\n",
       "    <tr style=\"text-align: right;\">\n",
       "      <th></th>\n",
       "      <th>state</th>\n",
       "      <th>JobAssist</th>\n",
       "      <th>External</th>\n",
       "    </tr>\n",
       "  </thead>\n",
       "  <tbody>\n",
       "    <tr>\n",
       "      <th>9</th>\n",
       "      <td>Karnataka</td>\n",
       "      <td>1662.0</td>\n",
       "      <td>326.0</td>\n",
       "    </tr>\n",
       "    <tr>\n",
       "      <th>16</th>\n",
       "      <td>Telangana</td>\n",
       "      <td>3394.0</td>\n",
       "      <td>32.0</td>\n",
       "    </tr>\n",
       "    <tr>\n",
       "      <th>6</th>\n",
       "      <td>Delhi</td>\n",
       "      <td>1196.0</td>\n",
       "      <td>4.0</td>\n",
       "    </tr>\n",
       "    <tr>\n",
       "      <th>14</th>\n",
       "      <td>Tamil Nadu</td>\n",
       "      <td>1242.0</td>\n",
       "      <td>1.0</td>\n",
       "    </tr>\n",
       "    <tr>\n",
       "      <th>15</th>\n",
       "      <td>Tamilnadu</td>\n",
       "      <td>NaN</td>\n",
       "      <td>1.0</td>\n",
       "    </tr>\n",
       "    <tr>\n",
       "      <th>18</th>\n",
       "      <td>Uttar Pradesh</td>\n",
       "      <td>3.0</td>\n",
       "      <td>1.0</td>\n",
       "    </tr>\n",
       "    <tr>\n",
       "      <th>0</th>\n",
       "      <td>#REF!</td>\n",
       "      <td>1.0</td>\n",
       "      <td>NaN</td>\n",
       "    </tr>\n",
       "    <tr>\n",
       "      <th>1</th>\n",
       "      <td>Andhra Pradesh</td>\n",
       "      <td>26.0</td>\n",
       "      <td>NaN</td>\n",
       "    </tr>\n",
       "    <tr>\n",
       "      <th>2</th>\n",
       "      <td>Assam</td>\n",
       "      <td>6.0</td>\n",
       "      <td>NaN</td>\n",
       "    </tr>\n",
       "    <tr>\n",
       "      <th>3</th>\n",
       "      <td>Bangalore</td>\n",
       "      <td>1.0</td>\n",
       "      <td>NaN</td>\n",
       "    </tr>\n",
       "  </tbody>\n",
       "</table>\n",
       "</div>"
      ],
      "text/plain": [
       "             state  JobAssist  External\n",
       "9        Karnataka     1662.0     326.0\n",
       "16       Telangana     3394.0      32.0\n",
       "6            Delhi     1196.0       4.0\n",
       "14      Tamil Nadu     1242.0       1.0\n",
       "15       Tamilnadu        NaN       1.0\n",
       "18   Uttar Pradesh        3.0       1.0\n",
       "0            #REF!        1.0       NaN\n",
       "1   Andhra Pradesh       26.0       NaN\n",
       "2            Assam        6.0       NaN\n",
       "3        Bangalore        1.0       NaN"
      ]
     },
     "execution_count": 36,
     "metadata": {},
     "output_type": "execute_result"
    }
   ],
   "source": [
    "leads31 = leads3.sort_values(by='External', ascending=False)\n",
    "leads31.head(10)"
   ]
  },
  {
   "cell_type": "markdown",
   "id": "eb21f94b",
   "metadata": {},
   "source": [
    "Leads from Leads from Karnataka and Telangana depend mostly on external services.\n",
    "\n",
    "\n",
    "Should improve the Job assist program in these states"
   ]
  },
  {
   "cell_type": "code",
   "execution_count": 37,
   "id": "ac902453",
   "metadata": {},
   "outputs": [
    {
     "data": {
      "text/plain": [
       "<AxesSubplot:xlabel='state', ylabel='External'>"
      ]
     },
     "execution_count": 37,
     "metadata": {},
     "output_type": "execute_result"
    },
    {
     "data": {
      "image/png": "[encoded data removed]",
      "text/plain": [
       "<Figure size 432x288 with 1 Axes>"
      ]
     },
     "metadata": {
      "needs_background": "light"
     },
     "output_type": "display_data"
    }
   ],
   "source": [
    "sns.barplot(x=\"state\", y=\"External\", data=leads31.head(5))"
   ]
  },
  {
   "cell_type": "markdown",
   "id": "58ac2f91",
   "metadata": {},
   "source": [
    "Dropping less important fields "
   ]
  },
  {
   "cell_type": "code",
   "execution_count": 38,
   "id": "3f6e272c",
   "metadata": {
    "scrolled": true
   },
   "outputs": [
    {
     "data": {
      "text/html": [
       "<div>\n",
       "<style scoped>\n",
       "    .dataframe tbody tr th:only-of-type {\n",
       "        vertical-align: middle;\n",
       "    }\n",
       "\n",
       "    .dataframe tbody tr th {\n",
       "        vertical-align: top;\n",
       "    }\n",
       "\n",
       "    .dataframe thead th {\n",
       "        text-align: right;\n",
       "    }\n",
       "</style>\n",
       "<table border=\"1\" class=\"dataframe\">\n",
       "  <thead>\n",
       "    <tr style=\"text-align: right;\">\n",
       "      <th></th>\n",
       "      <th>telecallerId</th>\n",
       "      <th>telecallerName</th>\n",
       "    </tr>\n",
       "  </thead>\n",
       "  <tbody>\n",
       "    <tr>\n",
       "      <th>0</th>\n",
       "      <td>4248b521-ce3f-4897-a30d-35c9ee81f746</td>\n",
       "      <td>Amila</td>\n",
       "    </tr>\n",
       "    <tr>\n",
       "      <th>1</th>\n",
       "      <td>fd904600-1e6e-4ab2-8be9-d7903aed9d3d</td>\n",
       "      <td>Sheeba</td>\n",
       "    </tr>\n",
       "    <tr>\n",
       "      <th>2</th>\n",
       "      <td>7717ef5d-38ec-44df-af3b-7a2446071e48</td>\n",
       "      <td>Islam</td>\n",
       "    </tr>\n",
       "    <tr>\n",
       "      <th>3</th>\n",
       "      <td>89b29324-8f3b-4b50-b3f7-0a3e0918e4d2</td>\n",
       "      <td>Rakshith</td>\n",
       "    </tr>\n",
       "    <tr>\n",
       "      <th>4</th>\n",
       "      <td>87112942-9c14-401a-9231-d9b4c2eee0c5</td>\n",
       "      <td>Manasa</td>\n",
       "    </tr>\n",
       "  </tbody>\n",
       "</table>\n",
       "</div>"
      ],
      "text/plain": [
       "                           telecallerId telecallerName\n",
       "0  4248b521-ce3f-4897-a30d-35c9ee81f746          Amila\n",
       "1  fd904600-1e6e-4ab2-8be9-d7903aed9d3d         Sheeba\n",
       "2  7717ef5d-38ec-44df-af3b-7a2446071e48          Islam\n",
       "3  89b29324-8f3b-4b50-b3f7-0a3e0918e4d2       Rakshith\n",
       "4  87112942-9c14-401a-9231-d9b4c2eee0c5         Manasa"
      ]
     },
     "execution_count": 38,
     "metadata": {},
     "output_type": "execute_result"
    }
   ],
   "source": [
    "telecallers = telecallers.drop(['phoneNumber', 'createdAt'], axis=1)\n",
    "telecallers.columns = ['telecallerId', 'telecallerName']\n",
    "telecallers"
   ]
  },
  {
   "cell_type": "markdown",
   "id": "ed920587",
   "metadata": {},
   "source": [
    "There are 5 callers Amila, Sheeba, Islam, Rakshith, and Manasa"
   ]
  },
  {
   "cell_type": "code",
   "execution_count": 39,
   "id": "e63c7d1a",
   "metadata": {},
   "outputs": [
    {
     "data": {
      "text/html": [
       "<div>\n",
       "<style scoped>\n",
       "    .dataframe tbody tr th:only-of-type {\n",
       "        vertical-align: middle;\n",
       "    }\n",
       "\n",
       "    .dataframe tbody tr th {\n",
       "        vertical-align: top;\n",
       "    }\n",
       "\n",
       "    .dataframe thead th {\n",
       "        text-align: right;\n",
       "    }\n",
       "</style>\n",
       "<table border=\"1\" class=\"dataframe\">\n",
       "  <thead>\n",
       "    <tr style=\"text-align: right;\">\n",
       "      <th></th>\n",
       "      <th>telecallerName</th>\n",
       "      <th>leadId</th>\n",
       "      <th>client</th>\n",
       "      <th>status</th>\n",
       "      <th>comments</th>\n",
       "      <th>calledAt</th>\n",
       "      <th>createdAt</th>\n",
       "    </tr>\n",
       "  </thead>\n",
       "  <tbody>\n",
       "    <tr>\n",
       "      <th>0</th>\n",
       "      <td>Amila</td>\n",
       "      <td>65d4429f-cb34-436d-9020-1fd6f364367f</td>\n",
       "      <td>KFC</td>\n",
       "      <td>RNR</td>\n",
       "      <td>NaN</td>\n",
       "      <td>2019-10-10T17:30:00Z</td>\n",
       "      <td>2019-12-26T18:09:38.408Z</td>\n",
       "    </tr>\n",
       "    <tr>\n",
       "      <th>1</th>\n",
       "      <td>Amila</td>\n",
       "      <td>1ad38259-a8a7-4b70-b72a-0c5ab046ee99</td>\n",
       "      <td>Amazon Flex</td>\n",
       "      <td>CNP/Switched Off/Not Reachable</td>\n",
       "      <td>NaN</td>\n",
       "      <td>2019-08-07T15:30:00Z</td>\n",
       "      <td>2019-12-26T17:40:36.254Z</td>\n",
       "    </tr>\n",
       "    <tr>\n",
       "      <th>2</th>\n",
       "      <td>Amila</td>\n",
       "      <td>4f88e0a6-d944-4425-84bd-2a7cb1e5a266</td>\n",
       "      <td>Swiggy</td>\n",
       "      <td>CNP/Switched Off/Not Reachable</td>\n",
       "      <td>NaN</td>\n",
       "      <td>2019-08-01T15:30:00Z</td>\n",
       "      <td>2019-12-26T17:36:12.462Z</td>\n",
       "    </tr>\n",
       "    <tr>\n",
       "      <th>3</th>\n",
       "      <td>Amila</td>\n",
       "      <td>f14e3921-fe25-4344-8a3d-a261e2a258cc</td>\n",
       "      <td>Zomato</td>\n",
       "      <td>Very Interested</td>\n",
       "      <td>Going on Sat</td>\n",
       "      <td>2019-08-08T11:00:00Z</td>\n",
       "      <td>2019-12-26T17:52:58.332Z</td>\n",
       "    </tr>\n",
       "    <tr>\n",
       "      <th>4</th>\n",
       "      <td>Amila</td>\n",
       "      <td>c3054421-6f40-4573-a33e-a092649cc1fb</td>\n",
       "      <td>Swiggy</td>\n",
       "      <td>Wrong Number/Number Not Valid</td>\n",
       "      <td>NaN</td>\n",
       "      <td>2019-08-05T12:30:00Z</td>\n",
       "      <td>2019-12-26T17:36:17.400Z</td>\n",
       "    </tr>\n",
       "    <tr>\n",
       "      <th>...</th>\n",
       "      <td>...</td>\n",
       "      <td>...</td>\n",
       "      <td>...</td>\n",
       "      <td>...</td>\n",
       "      <td>...</td>\n",
       "      <td>...</td>\n",
       "      <td>...</td>\n",
       "    </tr>\n",
       "    <tr>\n",
       "      <th>12330</th>\n",
       "      <td>Rakshith</td>\n",
       "      <td>80bc8765-0b25-42b3-95e3-62ecfe4af33e</td>\n",
       "      <td>Zomato</td>\n",
       "      <td>Interested</td>\n",
       "      <td>Is a last year graduation student\\nInterested ...</td>\n",
       "      <td>2019-09-02T12:30:00Z</td>\n",
       "      <td>2019-12-26T17:48:48.141Z</td>\n",
       "    </tr>\n",
       "    <tr>\n",
       "      <th>12331</th>\n",
       "      <td>Rakshith</td>\n",
       "      <td>c27d6673-f872-4878-b869-42a064a5848c</td>\n",
       "      <td>Zomato</td>\n",
       "      <td>Not Interested - Location Issue</td>\n",
       "      <td>Came to the centre\\nDidn't get the location he...</td>\n",
       "      <td>2019-08-26T10:30:00Z</td>\n",
       "      <td>2019-12-26T17:47:38.363Z</td>\n",
       "    </tr>\n",
       "    <tr>\n",
       "      <th>12332</th>\n",
       "      <td>Rakshith</td>\n",
       "      <td>aa23bc8c-6e4d-4303-b97f-489838f8a35f</td>\n",
       "      <td>Zomato</td>\n",
       "      <td>Not Interested - Got Other Jobs</td>\n",
       "      <td>NaN</td>\n",
       "      <td>2019-08-26T15:00:00Z</td>\n",
       "      <td>2019-12-26T17:47:38.289Z</td>\n",
       "    </tr>\n",
       "    <tr>\n",
       "      <th>12333</th>\n",
       "      <td>Rakshith</td>\n",
       "      <td>ee6c175b-7c83-49f4-994c-b1ad971a1913</td>\n",
       "      <td>Zomato</td>\n",
       "      <td>Interested</td>\n",
       "      <td>10th pass\\nWill come next monday 9 sep\\nWorkin...</td>\n",
       "      <td>2019-09-02T13:00:00Z</td>\n",
       "      <td>2019-12-26T17:48:48.155Z</td>\n",
       "    </tr>\n",
       "    <tr>\n",
       "      <th>12334</th>\n",
       "      <td>Rakshith</td>\n",
       "      <td>00cc3717-3a32-4318-8b68-adac850897b6</td>\n",
       "      <td>Zomato</td>\n",
       "      <td>Not Interested - Others</td>\n",
       "      <td>Is a Btech MBA Graduate\\nNot interested in doi...</td>\n",
       "      <td>2019-08-29T17:30:00Z</td>\n",
       "      <td>2019-12-26T17:48:47.624Z</td>\n",
       "    </tr>\n",
       "  </tbody>\n",
       "</table>\n",
       "<p>12335 rows × 7 columns</p>\n",
       "</div>"
      ],
      "text/plain": [
       "      telecallerName                                leadId       client  \\\n",
       "0              Amila  65d4429f-cb34-436d-9020-1fd6f364367f          KFC   \n",
       "1              Amila  1ad38259-a8a7-4b70-b72a-0c5ab046ee99  Amazon Flex   \n",
       "2              Amila  4f88e0a6-d944-4425-84bd-2a7cb1e5a266       Swiggy   \n",
       "3              Amila  f14e3921-fe25-4344-8a3d-a261e2a258cc       Zomato   \n",
       "4              Amila  c3054421-6f40-4573-a33e-a092649cc1fb       Swiggy   \n",
       "...              ...                                   ...          ...   \n",
       "12330       Rakshith  80bc8765-0b25-42b3-95e3-62ecfe4af33e       Zomato   \n",
       "12331       Rakshith  c27d6673-f872-4878-b869-42a064a5848c       Zomato   \n",
       "12332       Rakshith  aa23bc8c-6e4d-4303-b97f-489838f8a35f       Zomato   \n",
       "12333       Rakshith  ee6c175b-7c83-49f4-994c-b1ad971a1913       Zomato   \n",
       "12334       Rakshith  00cc3717-3a32-4318-8b68-adac850897b6       Zomato   \n",
       "\n",
       "                                status  \\\n",
       "0                                  RNR   \n",
       "1       CNP/Switched Off/Not Reachable   \n",
       "2       CNP/Switched Off/Not Reachable   \n",
       "3                      Very Interested   \n",
       "4        Wrong Number/Number Not Valid   \n",
       "...                                ...   \n",
       "12330                       Interested   \n",
       "12331  Not Interested - Location Issue   \n",
       "12332  Not Interested - Got Other Jobs   \n",
       "12333                       Interested   \n",
       "12334          Not Interested - Others   \n",
       "\n",
       "                                                comments  \\\n",
       "0                                                    NaN   \n",
       "1                                                    NaN   \n",
       "2                                                    NaN   \n",
       "3                                           Going on Sat   \n",
       "4                                                    NaN   \n",
       "...                                                  ...   \n",
       "12330  Is a last year graduation student\\nInterested ...   \n",
       "12331  Came to the centre\\nDidn't get the location he...   \n",
       "12332                                                NaN   \n",
       "12333  10th pass\\nWill come next monday 9 sep\\nWorkin...   \n",
       "12334  Is a Btech MBA Graduate\\nNot interested in doi...   \n",
       "\n",
       "                   calledAt                 createdAt  \n",
       "0      2019-10-10T17:30:00Z  2019-12-26T18:09:38.408Z  \n",
       "1      2019-08-07T15:30:00Z  2019-12-26T17:40:36.254Z  \n",
       "2      2019-08-01T15:30:00Z  2019-12-26T17:36:12.462Z  \n",
       "3      2019-08-08T11:00:00Z  2019-12-26T17:52:58.332Z  \n",
       "4      2019-08-05T12:30:00Z  2019-12-26T17:36:17.400Z  \n",
       "...                     ...                       ...  \n",
       "12330  2019-09-02T12:30:00Z  2019-12-26T17:48:48.141Z  \n",
       "12331  2019-08-26T10:30:00Z  2019-12-26T17:47:38.363Z  \n",
       "12332  2019-08-26T15:00:00Z  2019-12-26T17:47:38.289Z  \n",
       "12333  2019-09-02T13:00:00Z  2019-12-26T17:48:48.155Z  \n",
       "12334  2019-08-29T17:30:00Z  2019-12-26T17:48:47.624Z  \n",
       "\n",
       "[12335 rows x 7 columns]"
      ]
     },
     "execution_count": 39,
     "metadata": {},
     "output_type": "execute_result"
    }
   ],
   "source": [
    "lead_calls = pd.merge(telecallers, lead_calls, on='telecallerId', how='inner')\n",
    "lead_calls = lead_calls.drop(['id', 'telecallerId'], axis=1)\n",
    "lead_calls"
   ]
  },
  {
   "cell_type": "code",
   "execution_count": 40,
   "id": "222e17ff",
   "metadata": {},
   "outputs": [
    {
     "data": {
      "text/plain": [
       "Sheeba      8770\n",
       "Amila       3206\n",
       "Rakshith     359\n",
       "Name: telecallerName, dtype: int64"
      ]
     },
     "execution_count": 40,
     "metadata": {},
     "output_type": "execute_result"
    }
   ],
   "source": [
    "lead_calls['telecallerName'].value_counts()"
   ]
  },
  {
   "cell_type": "markdown",
   "id": "a1f49db3",
   "metadata": {},
   "source": [
    "Telecallers are not equally distributed with the calls\n",
    "\n",
    "Sheela has called maximum 8770 times\n",
    "\n",
    "Amila 3206 times\n",
    "\n",
    "Rakshith 359\n",
    "\n",
    "There is no call made from Islam and Manasa."
   ]
  },
  {
   "cell_type": "code",
   "execution_count": 41,
   "id": "ed9e1372",
   "metadata": {},
   "outputs": [
    {
     "data": {
      "text/plain": [
       "<AxesSubplot:ylabel='telecallerName'>"
      ]
     },
     "execution_count": 41,
     "metadata": {},
     "output_type": "execute_result"
    },
    {
     "data": {
      "image/png": "[encoded data removed]",
      "text/plain": [
       "<Figure size 432x288 with 1 Axes>"
      ]
     },
     "metadata": {},
     "output_type": "display_data"
    }
   ],
   "source": [
    "lead_calls['telecallerName'].value_counts().plot(kind='pie')"
   ]
  },
  {
   "cell_type": "code",
   "execution_count": 42,
   "id": "59dfdbb0",
   "metadata": {},
   "outputs": [
    {
     "data": {
      "text/plain": [
       "1     83.864461\n",
       "2      9.772086\n",
       "3      5.385236\n",
       "4      0.584913\n",
       "6      0.171440\n",
       "5      0.161355\n",
       "8      0.020169\n",
       "23     0.010085\n",
       "10     0.010085\n",
       "9      0.010085\n",
       "7      0.010085\n",
       "Name: leadId, dtype: float64"
      ]
     },
     "execution_count": 42,
     "metadata": {},
     "output_type": "execute_result"
    }
   ],
   "source": [
    "lead_calls['leadId'].value_counts().value_counts(normalize=True)*100"
   ]
  },
  {
   "cell_type": "markdown",
   "id": "94fa2e27",
   "metadata": {},
   "source": [
    "Number of times Telecallers called:-\n",
    "\n",
    "once to 8316 different leads 83.86 % leads\n",
    "\n",
    "twice to 969 different leads 9.77 % leads\n",
    "\n",
    "thrice to 534 different leads 5.38 % leads\n",
    "\n",
    "4 times to 58 different leads 0.58 % leads"
   ]
  },
  {
   "cell_type": "code",
   "execution_count": 43,
   "id": "8be64fd4",
   "metadata": {
    "scrolled": true
   },
   "outputs": [
    {
     "data": {
      "text/plain": [
       "CNP/Switched Off/Not Reachable                                     3825\n",
       "Wrong Number/Number Not Valid                                       816\n",
       "Very Interested                                                     794\n",
       "RNR                                                                 651\n",
       "Not Interested - Disconnected the Call                              615\n",
       "Not Interested - Got Other Jobs                                     501\n",
       "Not Interested - Not Applied                                        425\n",
       "Not Interested                                                      403\n",
       "Interested                                                          350\n",
       "Not Applied                                                         340\n",
       "Not Interested - Wrong Number                                       312\n",
       "Don't Meet Requirements                                             307\n",
       "Other Reasons                                                       287\n",
       "Switched Off/Not Reachable                                          277\n",
       "Disconnected the Call                                               261\n",
       "Switched Off/Not Reachable/No Incoming                              248\n",
       "Not Interested - Location Issue                                     243\n",
       "Want Non-Delivery Jobs                                              223\n",
       "Not Interested - Applied by Mistake                                 188\n",
       "Not Interested - Not Sure                                           169\n",
       "Not Interested - Others                                             158\n",
       "Not Sure                                                            125\n",
       "Joined                                                              114\n",
       "Got Other Jobs                                                      112\n",
       "Location Issue                                                       94\n",
       "Language Barrier                                                     81\n",
       "Not Interested - Want Non-Delivery Jobs                              67\n",
       "Applied for Someone Else                                             55\n",
       "Applied by Mistake                                                   39\n",
       "Not sure                                                             39\n",
       "Not Interested - Want Jobs in Other Category                         38\n",
       "Number Not Valid/Number Does Not Exist                               31\n",
       "Call Back                                                            29\n",
       "Not Interested - Want Jobs in Other Company (but same category)      19\n",
       "Not Interested - Call Back                                           17\n",
       "Want Other Delivery Jobs                                             15\n",
       "Disconnected the call                                                13\n",
       "Not Interested - Want Other Delivery Jobs                            12\n",
       "Not Interested but Referred Someone                                   9\n",
       "Interested but CNP on Follow-up                                       8\n",
       "Interested and Referred Someone                                       7\n",
       "Interested but in village                                             5\n",
       "Interested but RNR on Follow-up                                       4\n",
       "Not interested                                                        3\n",
       "Location issue                                                        2\n",
       "Applied by mistake                                                    2\n",
       "CNP/Switched off/Not Reachable                                        1\n",
       "Switched Off/Not Reachable/No Incoming Up                             1\n",
       "Name: status, dtype: int64"
      ]
     },
     "execution_count": 43,
     "metadata": {},
     "output_type": "execute_result"
    }
   ],
   "source": [
    "lead_calls['status'].value_counts()"
   ]
  },
  {
   "cell_type": "code",
   "execution_count": 44,
   "id": "25e23f41",
   "metadata": {},
   "outputs": [
    {
     "data": {
      "text/plain": [
       "2914"
      ]
     },
     "execution_count": 44,
     "metadata": {},
     "output_type": "execute_result"
    }
   ],
   "source": [
    "len(lead_calls[lead_calls['status'] == 'Not Interested - Disconnected the Call']) + len(lead_calls[lead_calls['status'] == 'Not Interested - Got Other Jobs'])+len(lead_calls[lead_calls['status'] == 'Not Interested - Not Applied'])+len(lead_calls[lead_calls['status'] == 'Not Interested'])+len(lead_calls[lead_calls['status'] == 'Not Interested - Applied by Mistake'])+len(lead_calls[lead_calls['status'] == 'Not Interested - Not Sure'])+len(lead_calls[lead_calls['status'] == 'Not Interested - Others'])+len(lead_calls[lead_calls['status'] == 'Not Interested - Want Non-Delivery Jobs'])+len(lead_calls[lead_calls['status'] == 'Not Interested - Want Jobs in Other Category'])+len(lead_calls[lead_calls['status'] == 'Not Interested - Wrong Number'])+len(lead_calls[lead_calls['status'] == 'Not Interested - Call Back'])+len(lead_calls[lead_calls['status'] == 'Not Interested - Want Other Delivery Jobs'])+len(lead_calls[lead_calls['status'] == 'Not Interested but Referred Someone'])"
   ]
  },
  {
   "cell_type": "code",
   "execution_count": 45,
   "id": "3ce44260",
   "metadata": {},
   "outputs": [
    {
     "data": {
      "text/plain": [
       "12335"
      ]
     },
     "execution_count": 45,
     "metadata": {},
     "output_type": "execute_result"
    }
   ],
   "source": [
    "len(lead_calls['status'])"
   ]
  },
  {
   "cell_type": "markdown",
   "id": "117a49aa",
   "metadata": {},
   "source": [
    "About 24% of the leads are not interested in the program. This is a high number as the company's resources are wasted in calling the leads."
   ]
  }
 ],
 "metadata": {
  "kernelspec": {
   "display_name": "Python 3 (ipykernel)",
   "language": "python",
   "name": "python3"
  },
  "language_info": {
   "codemirror_mode": {
    "name": "ipython",
    "version": 3
   },
   "file_extension": ".py",
   "mimetype": "text/x-python",
   "name": "python",
   "nbconvert_exporter": "python",
   "pygments_lexer": "ipython3",
   "version": "3.9.5"
  }
 },
 "nbformat": 4,
 "nbformat_minor": 5
}
